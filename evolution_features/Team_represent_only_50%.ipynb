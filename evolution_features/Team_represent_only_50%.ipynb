{
 "cells": [
  {
   "cell_type": "code",
   "execution_count": 1,
   "metadata": {},
   "outputs": [
    {
     "name": "stderr",
     "output_type": "stream",
     "text": [
      "/Users/fjirigesi/Documents/OOSLAClassifier/service/Classifier/Model/XGBRegressionModel.py:2: FutureWarning: The pandas.np module is deprecated and will be removed from pandas in a future version. Import numpy directly instead\n",
      "  from pandas import np\n"
     ]
    }
   ],
   "source": [
    "import os\n",
    "import sys\n",
    "sys.path.insert(0, os.path.abspath('../'))\n",
    "from service.Classifier.DataLoader.DataLoader import DataLoader\n",
    "from service.Classifier.Enums.priority import Priority\n",
    "from service.Classifier.DataLoader.P2DataLoader import P2DataLoader\n",
    "from service.Classifier.DataLoader.P3DataLoader import P3DataLoader\n",
    "from service.Classifier.DataLoader.P4DataLoader import P4DataLoader\n",
    "from service.Classifier.Model.XGBRegressionModel import XGBRegressionModel\n",
    "from service.Classifier.PreProcessing.RegressionModelPreProcessor import RegressionModelPreProcessor\n",
    "from service.Classifier.DataSplit.TrainTestSplit import TrainTestSplit\n",
    "from service.Classifier.Enums.dataTypeEnum import DataType"
   ]
  },
  {
   "cell_type": "code",
   "execution_count": 2,
   "metadata": {},
   "outputs": [],
   "source": [
    "def initializeByPriority(priority):\n",
    "    # load new updated data via Features class\n",
    "    if priority == Priority.P2.value:\n",
    "        return P2DataLoader()\n",
    "    elif priority == Priority.P3.value:\n",
    "        return P3DataLoader()\n",
    "    elif priority == Priority.P4.value:\n",
    "        return P4DataLoader()\n",
    "    return None"
   ]
  },
  {
   "cell_type": "code",
   "execution_count": 3,
   "metadata": {},
   "outputs": [],
   "source": [
    "priority = Priority.P2.value\n",
    "def extract_data(priority):\n",
    "    dataLoader = initializeByPriority(priority)\n",
    "    data_df = dataLoader.loadTrainingRawData()\n",
    "    # split data into train test 4:1\n",
    "    dataSplit = TrainTestSplit()\n",
    "    train_df, test_df = dataSplit.split(data_df)\n",
    "\n",
    "    # generate features\n",
    "    train_df, feature_names = dataLoader.transformRawDataToFeatures(train_df, DataType.TRAINDATA.value)\n",
    "    test_df, feature_names = dataLoader.transformRawDataToFeatures(test_df, DataType.VALIDATION.value)\n",
    "    # pre-processing the data based on model type\n",
    "    preprocessor = RegressionModelPreProcessor(feature_names)\n",
    "    train_X, train_y, test_X, test_y = preprocessor.preprocessing(train_df, test_df)\n",
    "    \n",
    "    return (train_X, train_y, test_X, test_y, train_df, test_df)"
   ]
  },
  {
   "cell_type": "code",
   "execution_count": 4,
   "metadata": {},
   "outputs": [],
   "source": [
    "import xgboost as xgb\n",
    "import numpy as np\n",
    "import pandas as pd\n",
    "from service.Classifier.Enums.LabelEnum import LabelEnum\n",
    "from sklearn.metrics import mean_squared_error, mean_absolute_error, confusion_matrix, classification_report\n",
    "from service.Classifier.PreProcessing.Utils.dataValidator import DataValidator\n",
    "\n",
    "def evaluate_result(train_X, train_y, test_X, test_y, train_df, test_df):\n",
    "\n",
    "    model = xgb.XGBRegressor(max_depth=5, n_estimators=100, learning_rate=0.05).fit(train_X, train_y)\n",
    "    predictions = np.rint(model.predict(test_X)).astype(np.int64)\n",
    "    submission = pd.DataFrame({'ID': test_df['keyID'],\n",
    "                               LabelEnum.CLOSEDDAY.value: predictions, 'Actual': test_y})\n",
    "    rmse = np.sqrt(mean_squared_error(predictions, test_df[LabelEnum.CLOSEDDAY.value]))\n",
    "    print(\"RMSE: %f\" % rmse)\n",
    "    mae = mean_absolute_error(predictions, test_y)\n",
    "    print(\"MAE: %f\" % mae)\n",
    "    DataValidator().valid(submission, priority, test_df)\n",
    "    print(confusion_matrix(submission[\"truth\"], submission[\"prediction\"]))\n",
    "    print(classification_report(submission[\"truth\"], submission[\"prediction\"]))\n",
    "    \n",
    "    return (test_y, predictions, submission[\"truth\"], submission[\"prediction\"])"
   ]
  },
  {
   "cell_type": "code",
   "execution_count": 5,
   "metadata": {},
   "outputs": [
    {
     "name": "stderr",
     "output_type": "stream",
     "text": [
      "/Users/fjirigesi/anaconda3/lib/python3.8/site-packages/pymongo/common.py:781: UserWarning: The value of ssl must be 'true' or 'false'\n",
      "  warnings.warn(str(exc))\n"
     ]
    },
    {
     "name": "stdout",
     "output_type": "stream",
     "text": [
      "The project is not in embedding: NATBEMCR\n",
      "The project is not in embedding: PX\n",
      "The project is not in embedding: GGRIP\n",
      "The project is not in embedding: PROBLEM\n",
      "The project is not in embedding: CSCNPLAT\n",
      "RMSE: 9.690657\n",
      "MAE: 7.766382\n",
      "[[211 185]\n",
      " [ 89 217]]\n",
      "              precision    recall  f1-score   support\n",
      "\n",
      "       False       0.70      0.53      0.61       396\n",
      "        True       0.54      0.71      0.61       306\n",
      "\n",
      "    accuracy                           0.61       702\n",
      "   macro avg       0.62      0.62      0.61       702\n",
      "weighted avg       0.63      0.61      0.61       702\n",
      "\n"
     ]
    }
   ],
   "source": [
    "priority = Priority.P2.value\n",
    "\n",
    "train_X, train_y, test_X, test_y, train_df, test_df = extract_data(priority)\n",
    "\n",
    "p2_regression_true, p2_regression_pred, p2_classification_true, p2_classification_pred = evaluate_result(train_X, train_y, test_X, test_y, train_df, test_df)"
   ]
  },
  {
   "cell_type": "code",
   "execution_count": 6,
   "metadata": {},
   "outputs": [
    {
     "name": "stderr",
     "output_type": "stream",
     "text": [
      "/Users/fjirigesi/anaconda3/lib/python3.8/site-packages/pymongo/common.py:781: UserWarning: The value of ssl must be 'true' or 'false'\n",
      "  warnings.warn(str(exc))\n"
     ]
    },
    {
     "name": "stdout",
     "output_type": "stream",
     "text": [
      "The project is not in embedding: RISKVRTB\n",
      "The project is not in embedding: MPPMO\n",
      "The project is not in embedding: NRP\n",
      "The project is not in embedding: WARROOM\n",
      "The project is not in embedding: PROBLEM\n",
      "The project is not in embedding: WEBRES\n",
      "RMSE: 20.065636\n",
      "MAE: 14.088812\n",
      "[[520  87]\n",
      " [145 115]]\n",
      "              precision    recall  f1-score   support\n",
      "\n",
      "       False       0.78      0.86      0.82       607\n",
      "        True       0.57      0.44      0.50       260\n",
      "\n",
      "    accuracy                           0.73       867\n",
      "   macro avg       0.68      0.65      0.66       867\n",
      "weighted avg       0.72      0.73      0.72       867\n",
      "\n"
     ]
    }
   ],
   "source": [
    "priority = Priority.P3.value\n",
    "\n",
    "train_X, train_y, test_X, test_y, train_df, test_df = extract_data(priority)\n",
    "\n",
    "p3_regression_true, p3_regression_pred, p3_classification_true, p3_classification_pred = evaluate_result(train_X, train_y, test_X, test_y, train_df, test_df)"
   ]
  },
  {
   "cell_type": "code",
   "execution_count": 7,
   "metadata": {},
   "outputs": [
    {
     "name": "stderr",
     "output_type": "stream",
     "text": [
      "/Users/fjirigesi/anaconda3/lib/python3.8/site-packages/pymongo/common.py:781: UserWarning: The value of ssl must be 'true' or 'false'\n",
      "  warnings.warn(str(exc))\n"
     ]
    },
    {
     "name": "stdout",
     "output_type": "stream",
     "text": [
      "The project is not in embedding: SDOCATOP\n",
      "RMSE: 24.272358\n",
      "MAE: 16.646316\n",
      "[[320  27]\n",
      " [ 83  45]]\n",
      "              precision    recall  f1-score   support\n",
      "\n",
      "       False       0.79      0.92      0.85       347\n",
      "        True       0.62      0.35      0.45       128\n",
      "\n",
      "    accuracy                           0.77       475\n",
      "   macro avg       0.71      0.64      0.65       475\n",
      "weighted avg       0.75      0.77      0.74       475\n",
      "\n"
     ]
    }
   ],
   "source": [
    "priority = Priority.P4.value\n",
    "\n",
    "train_X, train_y, test_X, test_y, train_df, test_df = extract_data(priority)\n",
    "\n",
    "p4_regression_true, p4_regression_pred, p4_classification_true, p4_classification_pred = evaluate_result(train_X, train_y, test_X, test_y, train_df, test_df)"
   ]
  },
  {
   "cell_type": "code",
   "execution_count": 8,
   "metadata": {},
   "outputs": [
    {
     "data": {
      "text/html": [
       "<div>\n",
       "<style scoped>\n",
       "    .dataframe tbody tr th:only-of-type {\n",
       "        vertical-align: middle;\n",
       "    }\n",
       "\n",
       "    .dataframe tbody tr th {\n",
       "        vertical-align: top;\n",
       "    }\n",
       "\n",
       "    .dataframe thead th {\n",
       "        text-align: right;\n",
       "    }\n",
       "</style>\n",
       "<table border=\"1\" class=\"dataframe\">\n",
       "  <thead>\n",
       "    <tr style=\"text-align: right;\">\n",
       "      <th></th>\n",
       "      <th>keyID</th>\n",
       "      <th>priority</th>\n",
       "      <th>projectCoverage</th>\n",
       "      <th>ResolvedDay</th>\n",
       "      <th>ClosedDay</th>\n",
       "    </tr>\n",
       "  </thead>\n",
       "  <tbody>\n",
       "    <tr>\n",
       "      <th>0</th>\n",
       "      <td>COMS-8231</td>\n",
       "      <td>P4</td>\n",
       "      <td>0.004162</td>\n",
       "      <td>65</td>\n",
       "      <td>65</td>\n",
       "    </tr>\n",
       "    <tr>\n",
       "      <th>1</th>\n",
       "      <td>CANCEL-6080</td>\n",
       "      <td>P4</td>\n",
       "      <td>0.004131</td>\n",
       "      <td>68</td>\n",
       "      <td>68</td>\n",
       "    </tr>\n",
       "    <tr>\n",
       "      <th>2</th>\n",
       "      <td>BILLING-16551</td>\n",
       "      <td>P4</td>\n",
       "      <td>0.038925</td>\n",
       "      <td>49</td>\n",
       "      <td>49</td>\n",
       "    </tr>\n",
       "    <tr>\n",
       "      <th>3</th>\n",
       "      <td>CANCEL-6067</td>\n",
       "      <td>P4</td>\n",
       "      <td>0.004836</td>\n",
       "      <td>78</td>\n",
       "      <td>78</td>\n",
       "    </tr>\n",
       "    <tr>\n",
       "      <th>4</th>\n",
       "      <td>BILLING-16534</td>\n",
       "      <td>P4</td>\n",
       "      <td>0.040816</td>\n",
       "      <td>56</td>\n",
       "      <td>56</td>\n",
       "    </tr>\n",
       "    <tr>\n",
       "      <th>...</th>\n",
       "      <td>...</td>\n",
       "      <td>...</td>\n",
       "      <td>...</td>\n",
       "      <td>...</td>\n",
       "      <td>...</td>\n",
       "    </tr>\n",
       "    <tr>\n",
       "      <th>1910</th>\n",
       "      <td>VOD-3573</td>\n",
       "      <td>P4</td>\n",
       "      <td>0.056915</td>\n",
       "      <td>68</td>\n",
       "      <td>68</td>\n",
       "    </tr>\n",
       "    <tr>\n",
       "      <th>1911</th>\n",
       "      <td>CANCEL-6268</td>\n",
       "      <td>P4</td>\n",
       "      <td>0.004724</td>\n",
       "      <td>80</td>\n",
       "      <td>80</td>\n",
       "    </tr>\n",
       "    <tr>\n",
       "      <th>1912</th>\n",
       "      <td>RES-20850</td>\n",
       "      <td>P4</td>\n",
       "      <td>0.008016</td>\n",
       "      <td>86</td>\n",
       "      <td>86</td>\n",
       "    </tr>\n",
       "    <tr>\n",
       "      <th>1913</th>\n",
       "      <td>BILLING-17524</td>\n",
       "      <td>P4</td>\n",
       "      <td>0.045840</td>\n",
       "      <td>86</td>\n",
       "      <td>86</td>\n",
       "    </tr>\n",
       "    <tr>\n",
       "      <th>1914</th>\n",
       "      <td>CANCEL-6188</td>\n",
       "      <td>P4</td>\n",
       "      <td>0.004137</td>\n",
       "      <td>58</td>\n",
       "      <td>58</td>\n",
       "    </tr>\n",
       "  </tbody>\n",
       "</table>\n",
       "<p>1915 rows × 5 columns</p>\n",
       "</div>"
      ],
      "text/plain": [
       "              keyID priority  projectCoverage  ResolvedDay  ClosedDay\n",
       "0         COMS-8231       P4         0.004162           65         65\n",
       "1       CANCEL-6080       P4         0.004131           68         68\n",
       "2     BILLING-16551       P4         0.038925           49         49\n",
       "3       CANCEL-6067       P4         0.004836           78         78\n",
       "4     BILLING-16534       P4         0.040816           56         56\n",
       "...             ...      ...              ...          ...        ...\n",
       "1910       VOD-3573       P4         0.056915           68         68\n",
       "1911    CANCEL-6268       P4         0.004724           80         80\n",
       "1912      RES-20850       P4         0.008016           86         86\n",
       "1913  BILLING-17524       P4         0.045840           86         86\n",
       "1914    CANCEL-6188       P4         0.004137           58         58\n",
       "\n",
       "[1915 rows x 5 columns]"
      ]
     },
     "execution_count": 8,
     "metadata": {},
     "output_type": "execute_result"
    }
   ],
   "source": [
    "train_df"
   ]
  },
  {
   "cell_type": "code",
   "execution_count": null,
   "metadata": {},
   "outputs": [],
   "source": []
  }
 ],
 "metadata": {
  "kernelspec": {
   "display_name": "Python 3",
   "language": "python",
   "name": "python3"
  },
  "language_info": {
   "codemirror_mode": {
    "name": "ipython",
    "version": 3
   },
   "file_extension": ".py",
   "mimetype": "text/x-python",
   "name": "python",
   "nbconvert_exporter": "python",
   "pygments_lexer": "ipython3",
   "version": "3.8.5"
  }
 },
 "nbformat": 4,
 "nbformat_minor": 4
}
