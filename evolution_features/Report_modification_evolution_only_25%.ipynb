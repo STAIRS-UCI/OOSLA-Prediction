{
 "cells": [
  {
   "cell_type": "code",
   "execution_count": 1,
   "metadata": {},
   "outputs": [
    {
     "name": "stderr",
     "output_type": "stream",
     "text": [
      "/Users/fjirigesi/Documents/OOSLAClassifier/service/Classifier/Model/XGBRegressionModel.py:2: FutureWarning: The pandas.np module is deprecated and will be removed from pandas in a future version. Import numpy directly instead\n",
      "  from pandas import np\n"
     ]
    }
   ],
   "source": [
    "import os\n",
    "import sys\n",
    "sys.path.insert(0, os.path.abspath('../'))\n",
    "from service.Classifier.DataLoader.DataLoader import DataLoader\n",
    "from service.Classifier.Enums.priority import Priority\n",
    "from service.Classifier.DataLoader.P2DataLoader import P2DataLoader\n",
    "from service.Classifier.DataLoader.P3DataLoader import P3DataLoader\n",
    "from service.Classifier.DataLoader.P4DataLoader import P4DataLoader\n",
    "from service.Classifier.Model.XGBRegressionModel import XGBRegressionModel\n",
    "from service.Classifier.PreProcessing.RegressionModelPreProcessor import RegressionModelPreProcessor\n",
    "from service.Classifier.DataSplit.TrainTestSplit import TrainTestSplit\n",
    "from service.Classifier.Enums.dataTypeEnum import DataType"
   ]
  },
  {
   "cell_type": "code",
   "execution_count": 2,
   "metadata": {},
   "outputs": [],
   "source": [
    "def initializeByPriority(priority):\n",
    "    # load new updated data via Features class\n",
    "    if priority == Priority.P2.value:\n",
    "        return P2DataLoader()\n",
    "    elif priority == Priority.P3.value:\n",
    "        return P3DataLoader()\n",
    "    elif priority == Priority.P4.value:\n",
    "        return P4DataLoader()\n",
    "    return None"
   ]
  },
  {
   "cell_type": "code",
   "execution_count": 3,
   "metadata": {},
   "outputs": [],
   "source": [
    "priority = Priority.P2.value\n",
    "def extract_data(priority):\n",
    "    dataLoader = initializeByPriority(priority)\n",
    "    data_df = dataLoader.loadTrainingRawData()\n",
    "    # split data into train test 4:1\n",
    "    dataSplit = TrainTestSplit()\n",
    "    train_df, test_df = dataSplit.split(data_df)\n",
    "\n",
    "    # generate features\n",
    "    train_df, feature_names = dataLoader.transformRawDataToFeatures(train_df, DataType.TRAINDATA.value)\n",
    "    test_df, feature_names = dataLoader.transformRawDataToFeatures(test_df, DataType.VALIDATION.value)\n",
    "    # pre-processing the data based on model type\n",
    "    preprocessor = RegressionModelPreProcessor(feature_names)\n",
    "    train_X, train_y, test_X, test_y = preprocessor.preprocessing(train_df, test_df)\n",
    "    \n",
    "    return (train_X, train_y, test_X, test_y, train_df, test_df)"
   ]
  },
  {
   "cell_type": "code",
   "execution_count": 4,
   "metadata": {},
   "outputs": [],
   "source": [
    "import xgboost as xgb\n",
    "import numpy as np\n",
    "import pandas as pd\n",
    "from service.Classifier.Enums.LabelEnum import LabelEnum\n",
    "from sklearn.metrics import mean_squared_error, mean_absolute_error, confusion_matrix, classification_report\n",
    "from service.Classifier.PreProcessing.Utils.dataValidator import DataValidator\n",
    "\n",
    "def evaluate_result(train_X, train_y, test_X, test_y, train_df, test_df):\n",
    "\n",
    "    model = xgb.XGBRegressor(max_depth=5, n_estimators=100, learning_rate=0.05).fit(train_X, train_y)\n",
    "    predictions = np.rint(model.predict(test_X)).astype(np.int64)\n",
    "    submission = pd.DataFrame({'ID': test_df['keyID'],\n",
    "                               LabelEnum.CLOSEDDAY.value: predictions, 'Actual': test_y})\n",
    "    rmse = np.sqrt(mean_squared_error(predictions, test_df[LabelEnum.CLOSEDDAY.value]))\n",
    "    print(\"RMSE: %f\" % rmse)\n",
    "    mae = mean_absolute_error(predictions, test_y)\n",
    "    print(\"MAE: %f\" % mae)\n",
    "    DataValidator().valid(submission, priority, test_df)\n",
    "    print(confusion_matrix(submission[\"truth\"], submission[\"prediction\"]))\n",
    "    print(classification_report(submission[\"truth\"], submission[\"prediction\"]))\n",
    "    \n",
    "    return (test_y, predictions, submission[\"truth\"], submission[\"prediction\"])"
   ]
  },
  {
   "cell_type": "code",
   "execution_count": 5,
   "metadata": {},
   "outputs": [
    {
     "name": "stderr",
     "output_type": "stream",
     "text": [
      "/Users/fjirigesi/anaconda3/lib/python3.8/site-packages/pymongo/common.py:781: UserWarning: The value of ssl must be 'true' or 'false'\n",
      "  warnings.warn(str(exc))\n"
     ]
    },
    {
     "name": "stdout",
     "output_type": "stream",
     "text": [
      "RMSE: 10.120834\n",
      "MAE: 8.225908\n",
      "[[133 256]\n",
      " [ 77 167]]\n",
      "              precision    recall  f1-score   support\n",
      "\n",
      "       False       0.63      0.34      0.44       389\n",
      "        True       0.39      0.68      0.50       244\n",
      "\n",
      "    accuracy                           0.47       633\n",
      "   macro avg       0.51      0.51      0.47       633\n",
      "weighted avg       0.54      0.47      0.47       633\n",
      "\n"
     ]
    }
   ],
   "source": [
    "priority = Priority.P2.value\n",
    "\n",
    "train_X, train_y, test_X, test_y, train_df, test_df = extract_data(priority)\n",
    "\n",
    "p2_regression_true, p2_regression_pred, p2_classification_true, p2_classification_pred = evaluate_result(train_X, train_y, test_X, test_y, train_df, test_df)"
   ]
  },
  {
   "cell_type": "code",
   "execution_count": 6,
   "metadata": {},
   "outputs": [
    {
     "name": "stderr",
     "output_type": "stream",
     "text": [
      "/Users/fjirigesi/anaconda3/lib/python3.8/site-packages/pymongo/common.py:781: UserWarning: The value of ssl must be 'true' or 'false'\n",
      "  warnings.warn(str(exc))\n"
     ]
    },
    {
     "name": "stdout",
     "output_type": "stream",
     "text": [
      "RMSE: 21.020338\n",
      "MAE: 14.812872\n",
      "[[483 116]\n",
      " [150  90]]\n",
      "              precision    recall  f1-score   support\n",
      "\n",
      "       False       0.76      0.81      0.78       599\n",
      "        True       0.44      0.38      0.40       240\n",
      "\n",
      "    accuracy                           0.68       839\n",
      "   macro avg       0.60      0.59      0.59       839\n",
      "weighted avg       0.67      0.68      0.68       839\n",
      "\n"
     ]
    }
   ],
   "source": [
    "priority = Priority.P3.value\n",
    "\n",
    "train_X, train_y, test_X, test_y, train_df, test_df = extract_data(priority)\n",
    "\n",
    "p3_regression_true, p3_regression_pred, p3_classification_true, p3_classification_pred = evaluate_result(train_X, train_y, test_X, test_y, train_df, test_df)"
   ]
  },
  {
   "cell_type": "code",
   "execution_count": 7,
   "metadata": {},
   "outputs": [
    {
     "name": "stderr",
     "output_type": "stream",
     "text": [
      "/Users/fjirigesi/anaconda3/lib/python3.8/site-packages/pymongo/common.py:781: UserWarning: The value of ssl must be 'true' or 'false'\n",
      "  warnings.warn(str(exc))\n"
     ]
    },
    {
     "name": "stdout",
     "output_type": "stream",
     "text": [
      "RMSE: 26.505886\n",
      "MAE: 17.956000\n",
      "[[325  19]\n",
      " [145  11]]\n",
      "              precision    recall  f1-score   support\n",
      "\n",
      "       False       0.69      0.94      0.80       344\n",
      "        True       0.37      0.07      0.12       156\n",
      "\n",
      "    accuracy                           0.67       500\n",
      "   macro avg       0.53      0.51      0.46       500\n",
      "weighted avg       0.59      0.67      0.59       500\n",
      "\n"
     ]
    }
   ],
   "source": [
    "priority = Priority.P4.value\n",
    "\n",
    "train_X, train_y, test_X, test_y, train_df, test_df = extract_data(priority)\n",
    "\n",
    "p4_regression_true, p4_regression_pred, p4_classification_true, p4_classification_pred = evaluate_result(train_X, train_y, test_X, test_y, train_df, test_df)"
   ]
  },
  {
   "cell_type": "code",
   "execution_count": 8,
   "metadata": {},
   "outputs": [],
   "source": [
    "# regression results\n",
    "regression_true = pd.concat([p2_regression_true, p3_regression_true])\n",
    "regression_true = pd.concat([regression_true, p4_regression_true])\n",
    "\n",
    "regression_pred = np.concatenate((p2_regression_pred, p3_regression_pred), axis=0)\n",
    "regression_pred = np.concatenate((regression_pred, p4_regression_pred), axis=0)\n",
    "\n",
    "## classification results\n",
    "classification_true = pd.concat([p2_classification_true, p3_classification_true])\n",
    "classification_true = pd.concat([classification_true, p4_classification_true])\n",
    "\n",
    "classification_pred = pd.concat([p2_classification_pred, p3_classification_pred])\n",
    "classification_pred = pd.concat([classification_pred, p4_classification_pred])"
   ]
  },
  {
   "cell_type": "code",
   "execution_count": 9,
   "metadata": {},
   "outputs": [
    {
     "name": "stdout",
     "output_type": "stream",
     "text": [
      "---Dynamic Features (including Activity Sequ) results on all data 75%---\n",
      "RMSE: 19.425822\n",
      "MAE: 13.495436\n",
      "[[941 391]\n",
      " [372 268]]\n",
      "              precision    recall  f1-score   support\n",
      "\n",
      "       False       0.72      0.71      0.71      1332\n",
      "        True       0.41      0.42      0.41       640\n",
      "\n",
      "    accuracy                           0.61      1972\n",
      "   macro avg       0.56      0.56      0.56      1972\n",
      "weighted avg       0.62      0.61      0.61      1972\n",
      "\n"
     ]
    }
   ],
   "source": [
    "print(\"---Dynamic Features (including Activity Sequ) results on all data 75%---\")\n",
    "rmse = np.sqrt(mean_squared_error(regression_pred, regression_true))\n",
    "print(\"RMSE: %f\" % rmse)\n",
    "mae = mean_absolute_error(regression_pred, regression_true)\n",
    "print(\"MAE: %f\" % mae)\n",
    "print(confusion_matrix(classification_true, classification_pred))\n",
    "print(classification_report(classification_true, classification_pred))"
   ]
  },
  {
   "cell_type": "code",
   "execution_count": null,
   "metadata": {},
   "outputs": [],
   "source": []
  }
 ],
 "metadata": {
  "kernelspec": {
   "display_name": "Python 3",
   "language": "python",
   "name": "python3"
  },
  "language_info": {
   "codemirror_mode": {
    "name": "ipython",
    "version": 3
   },
   "file_extension": ".py",
   "mimetype": "text/x-python",
   "name": "python",
   "nbconvert_exporter": "python",
   "pygments_lexer": "ipython3",
   "version": "3.8.5"
  }
 },
 "nbformat": 4,
 "nbformat_minor": 4
}
