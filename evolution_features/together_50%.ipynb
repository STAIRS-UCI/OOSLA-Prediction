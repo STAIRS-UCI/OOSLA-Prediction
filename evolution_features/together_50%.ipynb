{
 "cells": [
  {
   "cell_type": "code",
   "execution_count": 1,
   "metadata": {},
   "outputs": [
    {
     "name": "stderr",
     "output_type": "stream",
     "text": [
      "/Users/fjirigesi/Documents/OOSLAClassifier/service/Classifier/Model/XGBRegressionModel.py:2: FutureWarning: The pandas.np module is deprecated and will be removed from pandas in a future version. Import numpy directly instead\n",
      "  from pandas import np\n"
     ]
    }
   ],
   "source": [
    "import os\n",
    "import sys\n",
    "sys.path.insert(0, os.path.abspath('../'))\n",
    "from service.Classifier.DataLoader.DataLoader import DataLoader\n",
    "from service.Classifier.Enums.priority import Priority\n",
    "from service.Classifier.DataLoader.P2DataLoader import P2DataLoader\n",
    "from service.Classifier.DataLoader.P3DataLoader import P3DataLoader\n",
    "from service.Classifier.DataLoader.P4DataLoader import P4DataLoader\n",
    "from service.Classifier.Model.XGBRegressionModel import XGBRegressionModel\n",
    "from service.Classifier.PreProcessing.RegressionModelPreProcessor import RegressionModelPreProcessor\n",
    "from service.Classifier.DataSplit.TrainTestSplit import TrainTestSplit\n",
    "from service.Classifier.Enums.dataTypeEnum import DataType"
   ]
  },
  {
   "cell_type": "code",
   "execution_count": 2,
   "metadata": {},
   "outputs": [],
   "source": [
    "def initializeByPriority(priority):\n",
    "    # load new updated data via Features class\n",
    "    if priority == Priority.P2.value:\n",
    "        return P2DataLoader()\n",
    "    elif priority == Priority.P3.value:\n",
    "        return P3DataLoader()\n",
    "    elif priority == Priority.P4.value:\n",
    "        return P4DataLoader()\n",
    "    return None"
   ]
  },
  {
   "cell_type": "code",
   "execution_count": 3,
   "metadata": {},
   "outputs": [],
   "source": [
    "priority = Priority.P2.value\n",
    "def extract_data(priority):\n",
    "    dataLoader = initializeByPriority(priority)\n",
    "    data_df = dataLoader.loadTrainingRawData()\n",
    "    # split data into train test 4:1\n",
    "    dataSplit = TrainTestSplit()\n",
    "    train_df, test_df = dataSplit.split(data_df)\n",
    "\n",
    "    # generate features\n",
    "    train_df, feature_names = dataLoader.transformRawDataToFeatures(train_df, DataType.TRAINDATA.value)\n",
    "    test_df, feature_names = dataLoader.transformRawDataToFeatures(test_df, DataType.VALIDATION.value)\n",
    "    # pre-processing the data based on model type\n",
    "    preprocessor = RegressionModelPreProcessor(feature_names)\n",
    "    train_X, train_y, test_X, test_y = preprocessor.preprocessing(train_df, test_df)\n",
    "    \n",
    "    return (train_X, train_y, test_X, test_y, train_df, test_df)"
   ]
  },
  {
   "cell_type": "code",
   "execution_count": 4,
   "metadata": {},
   "outputs": [],
   "source": [
    "import xgboost as xgb\n",
    "import numpy as np\n",
    "import pandas as pd\n",
    "from service.Classifier.Enums.LabelEnum import LabelEnum\n",
    "from sklearn.metrics import mean_squared_error, mean_absolute_error, confusion_matrix, classification_report\n",
    "from service.Classifier.PreProcessing.Utils.dataValidator import DataValidator\n",
    "\n",
    "def evaluate_result(train_X, train_y, test_X, test_y, train_df, test_df):\n",
    "\n",
    "    model = xgb.XGBRegressor(max_depth=5, n_estimators=100, learning_rate=0.05).fit(train_X, train_y)\n",
    "    predictions = np.rint(model.predict(test_X)).astype(np.int64)\n",
    "    submission = pd.DataFrame({'ID': test_df['keyID'],\n",
    "                               LabelEnum.CLOSEDDAY.value: predictions, 'Actual': test_y})\n",
    "    rmse = np.sqrt(mean_squared_error(predictions, test_df[LabelEnum.CLOSEDDAY.value]))\n",
    "    print(\"RMSE: %f\" % rmse)\n",
    "    mae = mean_absolute_error(predictions, test_y)\n",
    "    print(\"MAE: %f\" % mae)\n",
    "    DataValidator().valid(submission, priority, test_df)\n",
    "    print(confusion_matrix(submission[\"truth\"], submission[\"prediction\"]))\n",
    "    print(classification_report(submission[\"truth\"], submission[\"prediction\"]))\n",
    "    \n",
    "    return (test_y, predictions, submission[\"truth\"], submission[\"prediction\"], model)"
   ]
  },
  {
   "cell_type": "code",
   "execution_count": 5,
   "metadata": {},
   "outputs": [
    {
     "name": "stderr",
     "output_type": "stream",
     "text": [
      "/Users/fjirigesi/anaconda3/lib/python3.8/site-packages/pymongo/common.py:781: UserWarning: The value of ssl must be 'true' or 'false'\n",
      "  warnings.warn(str(exc))\n"
     ]
    },
    {
     "name": "stdout",
     "output_type": "stream",
     "text": [
      "The project is not in embedding: NATBEMCR\n",
      "The project is not in embedding: GGRIP\n",
      "The project is not in embedding: PROBLEM\n",
      "The project is not in embedding: PX\n",
      "The project is not in embedding: CSCNPLAT\n",
      "RMSE: 9.166492\n",
      "MAE: 7.109063\n",
      "[[218 147]\n",
      " [ 90 196]]\n",
      "              precision    recall  f1-score   support\n",
      "\n",
      "       False       0.71      0.60      0.65       365\n",
      "        True       0.57      0.69      0.62       286\n",
      "\n",
      "    accuracy                           0.64       651\n",
      "   macro avg       0.64      0.64      0.64       651\n",
      "weighted avg       0.65      0.64      0.64       651\n",
      "\n"
     ]
    }
   ],
   "source": [
    "priority = Priority.P2.value\n",
    "\n",
    "train_X_P2, train_y_P2, test_X_P2, test_y_P2, train_df_P2, test_df_P2 = extract_data(priority)\n",
    "\n",
    "p2_regression_true, p2_regression_pred, p2_classification_true, p2_classification_pred, p2_model = evaluate_result(train_X_P2, train_y_P2, test_X_P2, test_y_P2, train_df_P2, test_df_P2)"
   ]
  },
  {
   "cell_type": "code",
   "execution_count": 8,
   "metadata": {},
   "outputs": [
    {
     "name": "stdout",
     "output_type": "stream",
     "text": [
      "8\n"
     ]
    },
    {
     "data": {
      "text/plain": [
       "Index(['chainLength', 'longTimeHold', 'lateTriageDays', 'InitialActivityCount',\n",
       "       'InitialActionCount', 'recentActionCount', 'recentActivityCount',\n",
       "       'projectCoverage'],\n",
       "      dtype='object')"
      ]
     },
     "execution_count": 8,
     "metadata": {},
     "output_type": "execute_result"
    }
   ],
   "source": [
    "feature_names = train_df_P2.columns[2:10]\n",
    "print(len(feature_names))\n",
    "feature_names"
   ]
  },
  {
   "cell_type": "code",
   "execution_count": 9,
   "metadata": {},
   "outputs": [
    {
     "data": {
      "text/plain": [
       "Text(0.5, 0, 'Permutation Importance on P2')"
      ]
     },
     "execution_count": 9,
     "metadata": {},
     "output_type": "execute_result"
    },
    {
     "data": {
      "image/png": "[encoded data removed]",
      "text/plain": [
       "<Figure size 432x288 with 1 Axes>"
      ]
     },
     "metadata": {
      "needs_background": "light"
     },
     "output_type": "display_data"
    }
   ],
   "source": [
    "from matplotlib import pyplot as plt\n",
    "# sorted_idx = p2_model.feature_importances_.argsort()\n",
    "# plt.barh(feature_names[sorted_idx], p2_model.feature_importances_[sorted_idx])\n",
    "# plt.xlabel(\"Xgboost buildin Feature Importance on P2\")\n",
    "\n",
    "from sklearn.inspection import permutation_importance\n",
    "perm_importance = permutation_importance(p2_model, test_X_P2, test_y_P2)\n",
    "\n",
    "sorted_idx = perm_importance.importances_mean.argsort()\n",
    "plt.barh(feature_names[sorted_idx], perm_importance.importances_mean[sorted_idx])\n",
    "plt.xlabel(\"Permutation Importance on P2\")\n",
    "\n",
    "perm_importance.importances_mean[sorted_idx]"
   ]
  },
  {
   "cell_type": "code",
   "execution_count": 11,
   "metadata": {},
   "outputs": [
    {
     "data": {
      "text/plain": [
       "array([0.0002491 , 0.00220964, 0.00290233, 0.00904674, 0.01325322,\n",
       "       0.09233607, 0.12576389, 0.24770984])"
      ]
     },
     "execution_count": 11,
     "metadata": {},
     "output_type": "execute_result"
    }
   ],
   "source": [
    "perm_importance.importances_mean[sorted_idx]"
   ]
  },
  {
   "cell_type": "markdown",
   "metadata": {},
   "source": [
    "## P3"
   ]
  },
  {
   "cell_type": "code",
   "execution_count": 12,
   "metadata": {},
   "outputs": [
    {
     "name": "stdout",
     "output_type": "stream",
     "text": [
      "The project is not in embedding: PROBLEM\n",
      "The project is not in embedding: RISKVRTB\n",
      "The project is not in embedding: MPPMO\n",
      "The project is not in embedding: WEBRES\n",
      "The project is not in embedding: NRP\n",
      "The project is not in embedding: WARROOM\n",
      "RMSE: 18.738484\n",
      "MAE: 13.240135\n",
      "[[547 114]\n",
      " [122 104]]\n",
      "              precision    recall  f1-score   support\n",
      "\n",
      "       False       0.82      0.83      0.82       661\n",
      "        True       0.48      0.46      0.47       226\n",
      "\n",
      "    accuracy                           0.73       887\n",
      "   macro avg       0.65      0.64      0.65       887\n",
      "weighted avg       0.73      0.73      0.73       887\n",
      "\n"
     ]
    }
   ],
   "source": [
    "priority = Priority.P3.value\n",
    "\n",
    "train_X_P3, train_y_P3, test_X_P3, test_y_P3, train_df_P3, test_df_P3 = extract_data(priority)\n",
    "\n",
    "p3_regression_true, p3_regression_pred, p3_classification_true, p3_classification_pred, p3_model = evaluate_result(train_X_P3, train_y_P3, test_X_P3, test_y_P3, train_df_P3, test_df_P3)"
   ]
  },
  {
   "cell_type": "code",
   "execution_count": 19,
   "metadata": {},
   "outputs": [
    {
     "name": "stdout",
     "output_type": "stream",
     "text": [
      "\n"
     ]
    },
    {
     "data": {
      "image/png": "[encoded data removed]",
      "text/plain": [
       "<Figure size 432x288 with 1 Axes>"
      ]
     },
     "metadata": {
      "needs_background": "light"
     },
     "output_type": "display_data"
    }
   ],
   "source": [
    "from matplotlib import pyplot as plt\n",
    "# sorted_idx = p2_model.feature_importances_.argsort()\n",
    "# plt.barh(feature_names[sorted_idx], p2_model.feature_importances_[sorted_idx])\n",
    "# plt.xlabel(\"Xgboost buildin Feature Importance on P2\")\n",
    "\n",
    "from sklearn.inspection import permutation_importance\n",
    "perm_importance = permutation_importance(p3_model, test_X_P3, test_y_P3)\n",
    "\n",
    "sorted_idx = perm_importance.importances_mean.argsort()\n",
    "plt.barh(feature_names[sorted_idx], perm_importance.importances_mean[sorted_idx])\n",
    "plt.xlabel(\"Permutation Importance on P3\")\n",
    "\n",
    "print()"
   ]
  },
  {
   "cell_type": "code",
   "execution_count": 16,
   "metadata": {},
   "outputs": [
    {
     "data": {
      "text/plain": [
       "array([-2.90881194e-03, -6.11824757e-04, -2.60603674e-04,  1.33679805e-02,\n",
       "        3.53601272e-02,  6.26451210e-02,  9.59105747e-02,  2.70256502e-01])"
      ]
     },
     "execution_count": 16,
     "metadata": {},
     "output_type": "execute_result"
    }
   ],
   "source": [
    "perm_importance.importances_mean[sorted_idx]"
   ]
  },
  {
   "cell_type": "code",
   "execution_count": 13,
   "metadata": {},
   "outputs": [
    {
     "name": "stderr",
     "output_type": "stream",
     "text": [
      "/Users/fjirigesi/anaconda3/lib/python3.8/site-packages/pymongo/common.py:781: UserWarning: The value of ssl must be 'true' or 'false'\n",
      "  warnings.warn(str(exc))\n"
     ]
    },
    {
     "name": "stdout",
     "output_type": "stream",
     "text": [
      "The project is not in embedding: SDOCATOP\n",
      "RMSE: 23.970773\n",
      "MAE: 16.645361\n",
      "[[302  43]\n",
      " [ 76  64]]\n",
      "              precision    recall  f1-score   support\n",
      "\n",
      "       False       0.80      0.88      0.84       345\n",
      "        True       0.60      0.46      0.52       140\n",
      "\n",
      "    accuracy                           0.75       485\n",
      "   macro avg       0.70      0.67      0.68       485\n",
      "weighted avg       0.74      0.75      0.74       485\n",
      "\n"
     ]
    }
   ],
   "source": [
    "priority = Priority.P4.value\n",
    "\n",
    "train_X_P4, train_y_P4, test_X_P4, test_y_P4, train_df_P4, test_df_P4 = extract_data(priority)\n",
    "\n",
    "p4_regression_true, p4_regression_pred, p4_classification_true, p4_classification_pred, p4_model = evaluate_result(train_X_P4, train_y_P4, test_X_P4, test_y_P4, train_df_P4, test_df_P4)"
   ]
  },
  {
   "cell_type": "code",
   "execution_count": 18,
   "metadata": {},
   "outputs": [
    {
     "name": "stdout",
     "output_type": "stream",
     "text": [
      "[-0.00365567 -0.00218814  0.00030851  0.01536501  0.04053205  0.05706541\n",
      "  0.07928226  0.26087003]\n"
     ]
    },
    {
     "data": {
      "image/png": "[encoded data removed]",
      "text/plain": [
       "<Figure size 432x288 with 1 Axes>"
      ]
     },
     "metadata": {
      "needs_background": "light"
     },
     "output_type": "display_data"
    }
   ],
   "source": [
    "from matplotlib import pyplot as plt\n",
    "# sorted_idx = p2_model.feature_importances_.argsort()\n",
    "# plt.barh(feature_names[sorted_idx], p2_model.feature_importances_[sorted_idx])\n",
    "# plt.xlabel(\"Xgboost buildin Feature Importance on P2\")\n",
    "\n",
    "from sklearn.inspection import permutation_importance\n",
    "perm_importance = permutation_importance(p3_model, test_X_P3, test_y_P3)\n",
    "\n",
    "sorted_idx = perm_importance.importances_mean.argsort()\n",
    "plt.barh(feature_names[sorted_idx], perm_importance.importances_mean[sorted_idx])\n",
    "plt.xlabel(\"Permutation Importance on P4\")\n",
    "\n",
    "print(perm_importance.importances_mean[sorted_idx])"
   ]
  },
  {
   "cell_type": "code",
   "execution_count": null,
   "metadata": {},
   "outputs": [],
   "source": [
    "# # regression results\n",
    "# regression_true = pd.concat([p2_regression_true, p3_regression_true])\n",
    "# regression_true = pd.concat([regression_true, p4_regression_true])\n",
    "\n",
    "# regression_pred = np.concatenate((p2_regression_pred, p3_regression_pred), axis=0)\n",
    "# regression_pred = np.concatenate((regression_pred, p4_regression_pred), axis=0)\n",
    "\n",
    "# ## classification results\n",
    "# classification_true = pd.concat([p2_classification_true, p3_classification_true])\n",
    "# classification_true = pd.concat([classification_true, p4_classification_true])\n",
    "\n",
    "# classification_pred = pd.concat([p2_classification_pred, p3_classification_pred])\n",
    "# classification_pred = pd.concat([classification_pred, p4_classification_pred])"
   ]
  },
  {
   "cell_type": "code",
   "execution_count": null,
   "metadata": {},
   "outputs": [],
   "source": [
    "# print(\"---Dynamic Features (including Activity Sequ) results on all data 75%---\")\n",
    "# rmse = np.sqrt(mean_squared_error(regression_pred, regression_true))\n",
    "# print(\"RMSE: %f\" % rmse)\n",
    "# mae = mean_absolute_error(regression_pred, regression_true)\n",
    "# print(\"MAE: %f\" % mae)\n",
    "# print(confusion_matrix(classification_true, classification_pred))\n",
    "# print(classification_report(classification_true, classification_pred))"
   ]
  },
  {
   "cell_type": "code",
   "execution_count": null,
   "metadata": {},
   "outputs": [],
   "source": []
  }
 ],
 "metadata": {
  "kernelspec": {
   "display_name": "Python 3",
   "language": "python",
   "name": "python3"
  },
  "language_info": {
   "codemirror_mode": {
    "name": "ipython",
    "version": 3
   },
   "file_extension": ".py",
   "mimetype": "text/x-python",
   "name": "python",
   "nbconvert_exporter": "python",
   "pygments_lexer": "ipython3",
   "version": "3.8.5"
  }
 },
 "nbformat": 4,
 "nbformat_minor": 4
}
