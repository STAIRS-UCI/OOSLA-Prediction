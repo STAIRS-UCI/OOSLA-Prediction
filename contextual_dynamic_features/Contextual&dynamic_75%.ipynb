{
 "cells": [
  {
   "cell_type": "code",
   "execution_count": 3,
   "metadata": {},
   "outputs": [
    {
     "name": "stdout",
     "output_type": "stream",
     "text": [
      "Python version: 3.8.5\n"
     ]
    },
    {
     "name": "stderr",
     "output_type": "stream",
     "text": [
      "/Users/fjirigesi/Documents/OOSLAClassifier/service/Classifier/Model/XGBRegressionModel.py:2: FutureWarning: The pandas.np module is deprecated and will be removed from pandas in a future version. Import numpy directly instead\n",
      "  from pandas import np\n"
     ]
    }
   ],
   "source": [
    "import os\n",
    "from os import path\n",
    "import sys\n",
    "import requests\n",
    "import pickle\n",
    "import platform\n",
    "import csv\n",
    "import xgboost as xgb\n",
    "import pathlib\n",
    "from datetime import datetime\n",
    "from sklearn.metrics import mean_squared_error, mean_absolute_error, confusion_matrix, classification_report, f1_score, precision_score, recall_score\n",
    "from sklearn.model_selection import KFold\n",
    "from sklearn.model_selection import cross_val_score\n",
    "import pandas as pd\n",
    "\n",
    "from service.Classifier.DataLoader.DataLoader import DataLoader\n",
    "from service.Classifier.Enums.priority import Priority\n",
    "from service.Classifier.DataLoader.P2DataLoader import P2DataLoader\n",
    "from service.Classifier.DataLoader.P3DataLoader import P3DataLoader\n",
    "from service.Classifier.DataLoader.P4DataLoader import P4DataLoader\n",
    "from service.Classifier.Model.XGBRegressionModel import XGBRegressionModel\n",
    "from service.Classifier.PreProcessing.RegressionModelPreProcessor import RegressionModelPreProcessor\n",
    "from service.Classifier.FeatureExtraction.RegressionOOSLAPredictionFeature import RegressionOOSLAPredictionFeature\n",
    "from service.Classifier.Enums.percentageOfSLA import PercentageOfSLA\n",
    "from service.Classifier.Constants.Constant import mongodbProdUrl, mongodbStagingUrl\n",
    "from service.Classifier.Indicators.Indicator import Indicator\n",
    "from service.Classifier.Enums.IndicatorName import IndicatorName\n",
    "from service.Classifier.DataSplit.TrainTestSplit import TrainTestSplit\n",
    "from service.Classifier.Enums.dataTypeEnum import DataType\n",
    "\n",
    "# from hpsklearn import HyperoptEstimator, xgboost_regression\n",
    "# from hyperopt import tpe\n",
    "print('Python version:', platform.python_version())\n",
    "# print('tensorflow version:', tf.__version__)\n",
    "sys.path.insert(0, os.path.abspath('../'))"
   ]
  },
  {
   "cell_type": "code",
   "execution_count": 4,
   "metadata": {},
   "outputs": [],
   "source": [
    "def initializeByPriority(priority):\n",
    "    # load new updated data via Features class\n",
    "    if priority == Priority.P2.value:\n",
    "        return P2DataLoader()\n",
    "    elif priority == Priority.P3.value:\n",
    "        return P3DataLoader()\n",
    "    elif priority == Priority.P4.value:\n",
    "        return P4DataLoader()\n",
    "    return None"
   ]
  },
  {
   "cell_type": "markdown",
   "metadata": {},
   "source": [
    "## Contextual Data Loader"
   ]
  },
  {
   "cell_type": "code",
   "execution_count": 5,
   "metadata": {},
   "outputs": [],
   "source": [
    "class BehaviorBuilder:\n",
    "        \n",
    "    def buildReporterToActivityDict(self, data_df):\n",
    "        # collect number of activities of each reporter by priority\n",
    "        reporterToActivity = {}\n",
    "        for index, row in data_df.iterrows():\n",
    "            for history in row[\"histories\"]:\n",
    "                name = history[\"author\"][\"_id\"]\n",
    "                if name not in reporterToActivity:\n",
    "                    reporterToActivity[name] = []\n",
    "                reporterToActivity[name].append(history[\"time\"])\n",
    "            # default NaN for empty bodies\n",
    "            if type(row[\"bodies\"]) != float: \n",
    "                for history in row[\"bodies\"]:\n",
    "                    name = history[\"authorID\"]\n",
    "                    if name not in reporterToActivity:\n",
    "                        reporterToActivity[name] = []\n",
    "                    reporterToActivity[name].append(history[\"created\"])\n",
    "        return reporterToActivity\n",
    "\n",
    "    def buildProjectToBugDict(self, data_df):\n",
    "        # collect bugs of each Jirakey  by priority\n",
    "        projectToBug = {}\n",
    "        for index, row in data_df.iterrows():\n",
    "            name = row[\"keyID\"].split(\"-\")[0]\n",
    "            if name not in projectToBug:\n",
    "                projectToBug[name] = []\n",
    "            projectToBug[name].append(row[\"created\"])\n",
    "        return projectToBug\n",
    "    \n",
    "    def buildProjectToClosedBugDict(self, data_df):\n",
    "        # collect closed bugs of each Jirakey by priority\n",
    "        projectToClosedBug = {}\n",
    "        for index, row in data_df.iterrows():\n",
    "            if row[\"status\"] != \"Closed\":\n",
    "                continue\n",
    "            name = row[\"keyID\"].split(\"-\")[0]\n",
    "            if name not in projectToClosedBug:\n",
    "                projectToClosedBug[name] = []\n",
    "            projectToClosedBug[name].append(row[\"created\"])\n",
    "        return projectToClosedBug\n",
    "    \n",
    "    def buildProjectToActivityDict(self, data_df):\n",
    "        # collect activity of each Jirakey by priority\n",
    "        projectToActivity = {}\n",
    "        for index, row in data_df.iterrows():\n",
    "            name = row[\"keyID\"].split(\"-\")[0]\n",
    "            if name not in projectToActivity:\n",
    "                projectToActivity[name] = []\n",
    "            # default NaN for empty bodies\n",
    "            if type(row[\"bodies\"]) != float: \n",
    "                projectToActivity[name].append({\n",
    "                    \"created\": row[\"created\"],\n",
    "                    \"count\": len(row[\"histories\"]) + len(row[\"bodies\"])\n",
    "                })\n",
    "            else:\n",
    "                projectToActivity[name].append({\n",
    "                    \"created\": row[\"created\"],\n",
    "                    \"count\": len(row[\"histories\"])\n",
    "                })\n",
    "        return projectToActivity\n",
    "\n",
    "    def buildHistoryDict(self, data_df, dataLoader):\n",
    "        data_df = dataLoader.concateWithComments(data_df)\n",
    "        reporterToActivity = self.buildReporterToActivityDict(data_df)\n",
    "        projectToBug = self.buildProjectToBugDict(data_df)\n",
    "        projectToClosedBug = self.buildProjectToClosedBugDict(data_df)\n",
    "        projectToActivity = self.buildProjectToActivityDict(data_df)\n",
    "        return reporterToActivity, projectToBug, projectToClosedBug, projectToActivity\n",
    "    \n",
    "    def extractCommentActivity(self, data_df):\n",
    "\n",
    "        commentActivity = {}\n",
    "\n",
    "        for index, row in data_df.iterrows():\n",
    "            for history in row[\"histories\"]:\n",
    "                name = history[\"author\"][\"_id\"]\n",
    "                if name not in commentActivity:\n",
    "                    commentActivity[name] = []\n",
    "                commentActivity[name].append(history[\"time\"])\n",
    "\n",
    "        return commentActivity\n",
    "    \n",
    "    def extractCreatorTickets(self, data_df):\n",
    "        ticketsOpenByReporter = {}\n",
    "\n",
    "        for index, row in data_df.iterrows():\n",
    "            submitter = row[\"reporter\"]\n",
    "            status = row[\"status\"]\n",
    "\n",
    "            if submitter not in ticketsOpenByReporter:\n",
    "                ticketsOpenByReporter[submitter] = []\n",
    "\n",
    "            timestamp = row[\"timestamp\"]//1000\n",
    "            dt_object = datetime.fromtimestamp(timestamp)\n",
    "            date_time = dt_object.strftime(\"%Y-%m-%dT%H:%M:%S\")\n",
    "\n",
    "            ticketsOpenByReporter[submitter].append((date_time, status))\n",
    "\n",
    "        return ticketsOpenByReporter"
   ]
  },
  {
   "cell_type": "code",
   "execution_count": 6,
   "metadata": {},
   "outputs": [
    {
     "name": "stderr",
     "output_type": "stream",
     "text": [
      "/Users/fjirigesi/anaconda3/lib/python3.8/site-packages/pymongo/common.py:781: UserWarning: The value of ssl must be 'true' or 'false'\n",
      "  warnings.warn(str(exc))\n"
     ]
    }
   ],
   "source": [
    "priorities = [Priority.P2.value, Priority.P3.value, Priority.P4.value]\n",
    "reporterToActivityDict = {}\n",
    "projectToBugDict = {}\n",
    "projectToClosedBugDict = {}\n",
    "projectToActivityDict = {}\n",
    "for priority in priorities:\n",
    "    dataLoader = initializeByPriority(priority)\n",
    "    data_df = dataLoader.loadAllDefectsByPriority(priority)\n",
    "    reporterToActivity, projectToBug, projectToClosedBug, projectToActivity = BehaviorBuilder().buildHistoryDict(data_df, dataLoader)\n",
    "    reporterToActivityDict[priority] = reporterToActivity\n",
    "    projectToBugDict[priority] = projectToBug\n",
    "    projectToClosedBugDict[priority] = projectToClosedBug\n",
    "    projectToActivityDict[priority] = projectToActivity\n",
    "    CreatorTicketsActivity = BehaviorBuilder().extractCreatorTickets(data_df)\n",
    "    CreatorCommentsActivity = BehaviorBuilder().extractCommentActivity(data_df)"
   ]
  },
  {
   "cell_type": "code",
   "execution_count": 7,
   "metadata": {},
   "outputs": [],
   "source": [
    "from datetime import date\n",
    "\n",
    "def daysDiff(d1, d2):\n",
    "#     print(d1)\n",
    "    date1 = d1.split('T')[0].split('-')\n",
    "#     print(date1)\n",
    "    date2 = d2.split('T')[0].split('-')\n",
    "#     print(date2)\n",
    "    date1_data = date(int(date1[0]), int(date1[1]), int(date1[2]))\n",
    "    date2_data = date(int(date2[0]), int(date2[1]), int(date2[2]))\n",
    "    delta = date2_data - date1_data\n",
    "    return delta.days"
   ]
  },
  {
   "cell_type": "markdown",
   "metadata": {},
   "source": [
    "## Define contextual indicators\n",
    "\n",
    "This part is used to define each features. After succesffully build a feature class, adding the class into dataloader's feature.indicators. "
   ]
  },
  {
   "cell_type": "markdown",
   "metadata": {},
   "source": [
    "### NCommentT"
   ]
  },
  {
   "cell_type": "code",
   "execution_count": 8,
   "metadata": {},
   "outputs": [],
   "source": [
    "# Number of comments\n",
    "class NCommentT(Indicator):\n",
    "\n",
    "    def getIndicatorName(self):\n",
    "        return \"NCommentT\"\n",
    "\n",
    "    def getIndicatorValue(self, ticket, dataType):\n",
    "        history, bodies, duration = self.getPreProcessedHistoryCommentsDuration(ticket, dataType)\n",
    "\n",
    "        return len(bodies)"
   ]
  },
  {
   "cell_type": "markdown",
   "metadata": {},
   "source": [
    "### NActorsT"
   ]
  },
  {
   "cell_type": "code",
   "execution_count": 9,
   "metadata": {},
   "outputs": [],
   "source": [
    "# number of active actors \n",
    "# number of unique users in comments and histories\n",
    "\n",
    "class NActor(Indicator):\n",
    "\n",
    "    def getIndicatorName(self):\n",
    "        return \"NActor\"\n",
    "\n",
    "    def getIndicatorValue(self, ticket, dataType):\n",
    "        history, bodies, duration = self.getPreProcessedHistoryCommentsDuration(ticket, dataType)\n",
    "        actors = set()\n",
    "    \n",
    "        for idx, row in history.iterrows():\n",
    "            actor = row['author']['_id']\n",
    "            actors.add(actor)\n",
    "            \n",
    "        for idx, row in bodies.iterrows():\n",
    "            actors.add(row[\"authorID\"])\n",
    "        \n",
    "        return len(actors)"
   ]
  },
  {
   "cell_type": "markdown",
   "metadata": {},
   "source": [
    "### LabelsT"
   ]
  },
  {
   "cell_type": "code",
   "execution_count": 10,
   "metadata": {},
   "outputs": [],
   "source": [
    "# number of active actors \n",
    "# number of unique users in comments and histories\n",
    "all_infor = pd.read_pickle(\"/Users/fjirigesi/Desktop/ExtarctedInfo.pickle\")\n",
    "\n",
    "class LabelsT(Indicator):\n",
    "\n",
    "    def getIndicatorName(self):\n",
    "        return \"LabelsT\"\n",
    "\n",
    "    def getIndicatorValue(self, ticket, dataType):        \n",
    "        # todo: Should we read this pickle all the time? can we improve here?\n",
    "        \n",
    "        ticket_id = ticket['keyID']\n",
    "#         print(ticket_id)\n",
    "        \n",
    "        labels = all_infor.loc[all_infor['issueKey']== ticket_id, 'labels']\n",
    "#         print(labels)\n",
    "        labelsSet = set()\n",
    "        \n",
    "        for index, label_list in labels.items():\n",
    "            for label in label_list:\n",
    "                labelsSet.add(label)\n",
    "\n",
    "        \n",
    "        return len(labelsSet)"
   ]
  },
  {
   "cell_type": "markdown",
   "metadata": {},
   "source": [
    "### meanCommnetSizeT"
   ]
  },
  {
   "cell_type": "code",
   "execution_count": 11,
   "metadata": {},
   "outputs": [],
   "source": [
    "# average length of comments\n",
    "from nltk.corpus import stopwords\n",
    "from nltk.tokenize import word_tokenize\n",
    "\n",
    "\n",
    "class meanCommentSize(Indicator):\n",
    "\n",
    "    def getIndicatorName(self):\n",
    "        return \"meanCommentSize\"\n",
    "\n",
    "    def getIndicatorValue(self, ticket, dataType):\n",
    "        history, bodies, duration = self.getPreProcessedHistoryCommentsDuration(ticket, dataType)\n",
    "        \n",
    "        stop_words = set(stopwords.words('english'))\n",
    "        \n",
    "        sentence_sizes = []\n",
    "        \n",
    "        for idx, row in bodies.iterrows():\n",
    "            content = row['content']\n",
    "            word_tokens = word_tokenize(content)\n",
    "            \n",
    "            filtered_sentence = [w for w in word_tokens if not w.lower() in stop_words]\n",
    "            \n",
    "            filtered_sentence = []\n",
    " \n",
    "            for w in word_tokens:\n",
    "                if w not in stop_words:\n",
    "                    filtered_sentence.append(w)\n",
    "            \n",
    "            filtered_sentence_size = len(filtered_sentence)\n",
    "            \n",
    "            sentence_sizes.append(filtered_sentence_size)\n",
    "            \n",
    "        if len(sentence_sizes) > 0:\n",
    "            return sum(sentence_sizes)/len(sentence_sizes)\n",
    "        else:\n",
    "            return 0\n",
    "            "
   ]
  },
  {
   "cell_type": "markdown",
   "metadata": {},
   "source": [
    "### ticketCleanedBodyLen"
   ]
  },
  {
   "cell_type": "code",
   "execution_count": 12,
   "metadata": {},
   "outputs": [],
   "source": [
    "# Length of the combined title and body with markdown parsed and tags removed.\n",
    "from nltk.corpus import stopwords\n",
    "from nltk.tokenize import word_tokenize\n",
    "import re\n",
    "\n",
    "class ticketCleanedBodyLen(Indicator):\n",
    "\n",
    "    def getIndicatorName(self):\n",
    "        return \"ticketCleanedBodyLen\"\n",
    "\n",
    "    def getIndicatorValue(self, ticket, dataType):\n",
    "        history, bodies, duration = self.getPreProcessedHistoryCommentsDuration(ticket, dataType)\n",
    "        title = ticket['summary']\n",
    "        body = ticket['description']\n",
    "        total = title + body\n",
    "        total = re.sub(r'^https?:\\/\\/.*[\\r\\n]*', '', total, flags=re.MULTILINE) # remove urls\n",
    "        \n",
    "        \n",
    "        stop_words = set(stopwords.words('english'))\n",
    "\n",
    "        word_tokens = word_tokenize(total)\n",
    "\n",
    "        filtered_sentence = [w for w in word_tokens if not w.lower() in stop_words]\n",
    "\n",
    "        filtered_sentence = []\n",
    "\n",
    "        for w in word_tokens:\n",
    "            if w not in stop_words:\n",
    "                filtered_sentence.append(w)\n",
    "        \n",
    "        return len(filtered_sentence)"
   ]
  },
  {
   "cell_type": "markdown",
   "metadata": {},
   "source": [
    "## nTicketsByCreatorOpen"
   ]
  },
  {
   "cell_type": "code",
   "execution_count": 13,
   "metadata": {},
   "outputs": [],
   "source": [
    "# Number of activity of the reporter by T\n",
    "class nticketsByCreatorOpen(Indicator):\n",
    "\n",
    "    def getIndicatorName(self):\n",
    "        return \"nticketsByCreatorOpen\"\n",
    "\n",
    "    def getIndicatorValue(self, ticket, dataType):\n",
    "        return self.getNumberofTicketsByCreatorOpen(ticket[\"reporter\"], ticket[\"created\"])\n",
    "    \n",
    "    def getNumberofTicketsByCreatorOpen(self, reporter, created):\n",
    "        \n",
    "        if reporter not in CreatorTicketsActivity:\n",
    "            return 0\n",
    "        \n",
    "        NumberCreatedTickets = 0\n",
    "        for dt in CreatorTicketsActivity[reporter]:\n",
    "            days = daysDiff(dt[0], created)\n",
    "            if days < 90 and days > 0:\n",
    "                NumberCreatedTickets += 1\n",
    "        return NumberCreatedTickets"
   ]
  },
  {
   "cell_type": "markdown",
   "metadata": {},
   "source": [
    "## nClosedTicketsByCreatorOpen"
   ]
  },
  {
   "cell_type": "code",
   "execution_count": 14,
   "metadata": {},
   "outputs": [],
   "source": [
    "\n",
    "# Number of activity of the reporter by T\n",
    "class nClosedticketsByCreatorOpen(Indicator):\n",
    "\n",
    "    def getIndicatorName(self):\n",
    "        return \"nClosedticketsByCreatorOpen\"\n",
    "\n",
    "    def getIndicatorValue(self, ticket, dataType):\n",
    "        return self.getNumberofClosedTicketsByCreatorOpen(ticket[\"reporter\"], ticket[\"created\"])\n",
    "    \n",
    "    def getNumberofClosedTicketsByCreatorOpen(self, reporter, created):\n",
    "        \n",
    "        if reporter not in CreatorTicketsActivity:\n",
    "            return 0\n",
    "        \n",
    "        NumberClosedTickets = 0\n",
    "        for dt in CreatorTicketsActivity[reporter]:\n",
    "            if dt[1] == \"Closed\":\n",
    "                days = daysDiff(dt[0], created)\n",
    "                if days < 90 and days > 0:\n",
    "                    NumberClosedTickets += 1\n",
    "        return NumberClosedTickets"
   ]
  },
  {
   "cell_type": "markdown",
   "metadata": {},
   "source": [
    "### nCommentsByCreator"
   ]
  },
  {
   "cell_type": "code",
   "execution_count": 15,
   "metadata": {},
   "outputs": [],
   "source": [
    "class nCommentsByCreator(Indicator):\n",
    "\n",
    "    def getIndicatorName(self):\n",
    "        return \"nCommentsByCreator\"\n",
    "\n",
    "    def getIndicatorValue(self, ticket, dataType):\n",
    "        return self.getNCommentsByCreator(ticket[\"reporter\"], ticket[\"created\"])\n",
    "    \n",
    "    def getNCommentsByCreator(self, reporter, created):\n",
    "        \n",
    "        if reporter not in CreatorCommentsActivity:\n",
    "            return 0\n",
    "        \n",
    "        NumberComments = 0\n",
    "        for dt in CreatorCommentsActivity[reporter]:\n",
    "            days = daysDiff(dt, created)\n",
    "            if days < 90 and days > 0:\n",
    "                NumberComments += 1\n",
    "        return NumberComments"
   ]
  },
  {
   "cell_type": "markdown",
   "metadata": {},
   "source": [
    "## Below features are extracted by Bochang"
   ]
  },
  {
   "cell_type": "markdown",
   "metadata": {},
   "source": [
    "## nCommentByActorsT"
   ]
  },
  {
   "cell_type": "code",
   "execution_count": 16,
   "metadata": {},
   "outputs": [],
   "source": [
    "\n",
    "from service.Classifier.DateUtils.DateUtils import DateUtil\n",
    "\n",
    "# Number of activity of the reporter by T\n",
    "class NCommentByActorsT(Indicator):\n",
    "\n",
    "    def getIndicatorName(self):\n",
    "        return \"NCommentByActorsT\"\n",
    "\n",
    "    def getIndicatorValue(self, ticket, dataType):\n",
    "        return self.getNumberOfActivityCountByReporter(ticket[\"reporter\"], ticket[\"priority\"], ticket[\"created\"])\n",
    "    \n",
    "    def getNumberOfActivityCountByReporter(self, reporter, priority, created):\n",
    "        reporterToActivity = reporterToActivityDict[priority]\n",
    "        if reporter not in reporterToActivity:\n",
    "            return 0\n",
    "        activity = 0\n",
    "        for dt in reporterToActivity[reporter]:\n",
    "            days = DateUtil().getTimeDifference(dt, created)\n",
    "            if days < 20 and days > 0:\n",
    "                activity += 1\n",
    "        return activity"
   ]
  },
  {
   "cell_type": "markdown",
   "metadata": {},
   "source": [
    "## nticketsCreatedInProject"
   ]
  },
  {
   "cell_type": "code",
   "execution_count": 17,
   "metadata": {},
   "outputs": [],
   "source": [
    "# Number of bugs by the project for the past 3 months\n",
    "class NticketsCreatedInProject(Indicator):\n",
    "\n",
    "    def getIndicatorName(self):\n",
    "        return \"NticketsCreatedInProject\"\n",
    "\n",
    "    def getIndicatorValue(self, ticket, dataType):\n",
    "        return self.getNumberOfActivityCountByReporter(ticket[\"keyID\"].split(\"-\")[0], ticket[\"priority\"], ticket[\"created\"])\n",
    "    \n",
    "    def getNumberOfActivityCountByReporter(self, jiraKey, priority, created):\n",
    "        projectToBug = projectToBugDict[priority]\n",
    "        if jiraKey not in projectToBug:\n",
    "            return 0\n",
    "        ticketCount = 0\n",
    "        for dt in projectToBug[jiraKey]:\n",
    "            days = DateUtil().getTimeDifference(dt, created)\n",
    "            if days < 90 and days > 0:\n",
    "                ticketCount += 1\n",
    "        return ticketCount"
   ]
  },
  {
   "cell_type": "markdown",
   "metadata": {},
   "source": [
    "## nTicketsCreatedInProjectT"
   ]
  },
  {
   "cell_type": "code",
   "execution_count": 18,
   "metadata": {},
   "outputs": [],
   "source": [
    "# Number of bugs by the project for the past 2 weeks\n",
    "class NticketsCreatedInProjectT(Indicator):\n",
    "\n",
    "    def getIndicatorName(self):\n",
    "        return \"NticketsCreatedInProjectT\"\n",
    "\n",
    "    def getIndicatorValue(self, ticket, dataType):\n",
    "        return self.getNumberOfActivityCountByReporter(ticket[\"keyID\"].split(\"-\")[0], ticket[\"priority\"], ticket[\"created\"])\n",
    "    \n",
    "    def getNumberOfActivityCountByReporter(self, jiraKey, priority, created):\n",
    "        projectToBug = projectToBugDict[priority]\n",
    "        if jiraKey not in projectToBug:\n",
    "            return 0\n",
    "        ticketCount = 0\n",
    "        for dt in projectToBug[jiraKey]:\n",
    "            days = DateUtil().getTimeDifference(dt, created)\n",
    "            if days < 14 and days > 0:\n",
    "                ticketCount += 1\n",
    "        return ticketCount"
   ]
  },
  {
   "cell_type": "markdown",
   "metadata": {},
   "source": [
    "## nticketsCreatedInProjectClosed"
   ]
  },
  {
   "cell_type": "code",
   "execution_count": 19,
   "metadata": {},
   "outputs": [],
   "source": [
    "# Number of closed bugs by the project for the past 3 months\n",
    "class NticketsCreatedInProjectClosed(Indicator):\n",
    "\n",
    "    def getIndicatorName(self):\n",
    "        return \"NticketsCreatedInProjectClosed\"\n",
    "\n",
    "    def getIndicatorValue(self, ticket, dataType):\n",
    "        return self.getNumberOfActivityCountByReporter(ticket[\"keyID\"].split(\"-\")[0], ticket[\"priority\"], ticket[\"created\"])\n",
    "    \n",
    "    def getNumberOfActivityCountByReporter(self, jiraKey, priority, created):\n",
    "        projectToClosedBug = projectToClosedBugDict[priority]\n",
    "        if jiraKey not in projectToClosedBug:\n",
    "            return 0\n",
    "        ticketCount = 0\n",
    "        for dt in projectToClosedBug[jiraKey]:\n",
    "            days = DateUtil().getTimeDifference(dt, created)\n",
    "            if days < 90 and days > 0:\n",
    "                ticketCount += 1\n",
    "        return ticketCount"
   ]
  },
  {
   "cell_type": "markdown",
   "metadata": {},
   "source": [
    "## nTicketsCreatedInProjectClosedT"
   ]
  },
  {
   "cell_type": "code",
   "execution_count": 20,
   "metadata": {},
   "outputs": [],
   "source": [
    "# Number of closed bugs by the project for the past 2 weeks\n",
    "class NticketsCreatedInProjectClosedT(Indicator):\n",
    "\n",
    "    def getIndicatorName(self):\n",
    "        return \"NticketsCreatedInProjectClosedT\"\n",
    "\n",
    "    def getIndicatorValue(self, ticket, dataType):\n",
    "        return self.getNumberOfActivityCountByReporter(ticket[\"keyID\"].split(\"-\")[0], ticket[\"priority\"], ticket[\"created\"])\n",
    "    \n",
    "    def getNumberOfActivityCountByReporter(self, jiraKey, priority, created):\n",
    "        projectToClosedBug = projectToClosedBugDict[priority]\n",
    "        if jiraKey not in projectToClosedBug:\n",
    "            return 0\n",
    "        ticketCount = 0\n",
    "        for dt in projectToClosedBug[jiraKey]:\n",
    "            days = DateUtil().getTimeDifference(dt, created)\n",
    "            if days < 14 and days > 0:\n",
    "                ticketCount += 1\n",
    "        return ticketCount"
   ]
  },
  {
   "cell_type": "markdown",
   "metadata": {},
   "source": [
    "## nActivityProject"
   ]
  },
  {
   "cell_type": "code",
   "execution_count": 21,
   "metadata": {},
   "outputs": [],
   "source": [
    "# Number of activity by the project for the past 3 months\n",
    "class NActivityInProject(Indicator):\n",
    "\n",
    "    def getIndicatorName(self):\n",
    "        return \"NActivityInProject\"\n",
    "\n",
    "    def getIndicatorValue(self, ticket, dataType):\n",
    "        return self.getNumberOfActivityCountByReporter(ticket[\"keyID\"].split(\"-\")[0], ticket[\"priority\"], ticket[\"created\"])\n",
    "    \n",
    "    def getNumberOfActivityCountByReporter(self, jiraKey, priority, created):\n",
    "        projectToActivity = projectToActivityDict[priority]\n",
    "        if jiraKey not in projectToActivity:\n",
    "            return 0\n",
    "        ticketCount = 0\n",
    "        for dt in projectToActivity[jiraKey]:\n",
    "            days = DateUtil().getTimeDifference(dt[\"created\"], created)\n",
    "            if days < 90 and days > 0:\n",
    "                ticketCount += dt[\"count\"]\n",
    "        return ticketCount"
   ]
  },
  {
   "cell_type": "markdown",
   "metadata": {},
   "source": [
    "## nActivityProjectT"
   ]
  },
  {
   "cell_type": "code",
   "execution_count": 22,
   "metadata": {},
   "outputs": [],
   "source": [
    "# Number of activity by the project for the past 2 weeks\n",
    "class NActivityInProjectT(Indicator):\n",
    "\n",
    "    def getIndicatorName(self):\n",
    "        return \"NActivityInProjectT\"\n",
    "\n",
    "    def getIndicatorValue(self, ticket, dataType):\n",
    "        return self.getNumberOfActivityCountByReporter(ticket[\"keyID\"].split(\"-\")[0], ticket[\"priority\"], ticket[\"created\"])\n",
    "    \n",
    "    def getNumberOfActivityCountByReporter(self, jiraKey, priority, created):\n",
    "        projectToActivity = projectToActivityDict[priority]\n",
    "        if jiraKey not in projectToActivity:\n",
    "            return 0\n",
    "        ticketCount = 0\n",
    "        for dt in projectToActivity[jiraKey]:\n",
    "            days = DateUtil().getTimeDifference(dt[\"created\"], created)\n",
    "            if days < 14 and days > 0:\n",
    "                ticketCount += dt[\"count\"]\n",
    "        return ticketCount"
   ]
  },
  {
   "cell_type": "markdown",
   "metadata": {},
   "source": [
    "## Extract features"
   ]
  },
  {
   "cell_type": "code",
   "execution_count": 23,
   "metadata": {},
   "outputs": [],
   "source": [
    "class ContextualDataLoader(DataLoader):\n",
    "    \n",
    "    def __init__(self, priority):\n",
    "        super().__init__(priority)\n",
    "        \n",
    "    def transformToContextualFeatures(self, tickets, dataType):\n",
    "        feature = RegressionOOSLAPredictionFeature()\n",
    "#         feature.indicators = [NCommentT(), NActor(), LabelsT(), meanCommentSize(),\n",
    "#                                ticketCleanedBodyLen(), nticketsByCreatorOpen(),\n",
    "#                               nClosedticketsByCreatorOpen(), nCommentsByCreator()]\n",
    "#         feature.indicators = [NCommentByActorsT(), NticketsCreatedInProject(),\n",
    "#                              NticketsCreatedInProjectT(), NticketsCreatedInProjectClosed(),\n",
    "#                              NticketsCreatedInProjectClosedT(), NActivityInProject(),\n",
    "#                              NActivityInProjectT()]\n",
    "        # All contextual features\n",
    "        \n",
    "        feature.indicators = [NCommentT(), NActor(), LabelsT(), meanCommentSize(),\n",
    "                             ticketCleanedBodyLen(), nticketsByCreatorOpen(),\n",
    "                             nClosedticketsByCreatorOpen(), nCommentsByCreator(), \n",
    "                             NCommentByActorsT(), NticketsCreatedInProject(),\n",
    "                             NticketsCreatedInProjectT(), NticketsCreatedInProjectClosed(),\n",
    "                             NticketsCreatedInProjectClosedT(), NActivityInProject(),\n",
    "                             NActivityInProjectT()]\n",
    "        \n",
    "         \n",
    "        feature.setPercentageOfSLA(self.percentageOfSLA)\n",
    "        \n",
    "        df, feature_name = feature.buildFeatureFromData(self.concateWithComments(tickets), dataType)\n",
    "        # df.to_csv(\"data-\" + self.priority + \"(\" + str(int(self.percentageOfSLA * 100)) + \").csv\")\n",
    "        return df, feature_name"
   ]
  },
  {
   "cell_type": "code",
   "execution_count": 24,
   "metadata": {},
   "outputs": [],
   "source": [
    "# def preprocessData(priority_value):\n",
    "\n",
    "\n",
    "def extract_contextual_feature(priority):\n",
    "    dataLoader = initializeByPriority(priority)\n",
    "    data_df = dataLoader.loadTrainingRawData()\n",
    "\n",
    "    # split data into train test 4:1\n",
    "    dataSplit = TrainTestSplit()\n",
    "    train_df_raw, test_df_raw = dataSplit.split(data_df)\n",
    "\n",
    "    # generate features\n",
    "    train_df, feature_names = ContextualDataLoader(priority).transformToContextualFeatures(train_df_raw, DataType.TRAINDATA.value)\n",
    "\n",
    "    test_df, feature_names = ContextualDataLoader(priority).transformToContextualFeatures(test_df_raw, DataType.VALIDATION.value)\n",
    "\n",
    "    # pre-processing the data based on model type\n",
    "    preprocessor = RegressionModelPreProcessor(feature_names)\n",
    "    train_X, train_y, test_X, test_y = preprocessor.preprocessing(train_df, test_df)\n",
    "    print(train_X.shape)\n",
    "    print(test_X.shape)\n",
    "    return (train_X, train_y, test_X, test_y, train_df, test_df)"
   ]
  },
  {
   "cell_type": "markdown",
   "metadata": {},
   "source": [
    "## XGBoost"
   ]
  },
  {
   "cell_type": "code",
   "execution_count": 25,
   "metadata": {},
   "outputs": [],
   "source": [
    "import numpy as np\n",
    "import pandas as pd\n",
    "from service.Classifier.Enums.LabelEnum import LabelEnum\n",
    "from sklearn.metrics import mean_squared_error, mean_absolute_error, confusion_matrix, classification_report\n",
    "from service.Classifier.PreProcessing.Utils.dataValidator import DataValidator\n",
    "import xgboost as xgb\n",
    "\n",
    "def evaluate_contextual_result(train_X, train_y, test_X, test_y, train_df, test_df):    \n",
    "\n",
    "    model = xgb.XGBRegressor(max_depth=5, n_estimators=100, learning_rate=0.05).fit(train_X, train_y)\n",
    "    predictions = np.rint(model.predict(test_X)).astype(np.int64)\n",
    "    submission = pd.DataFrame({'ID': test_df['keyID'],\n",
    "                               LabelEnum.CLOSEDDAY.value: predictions, 'Actual': test_y})\n",
    "    rmse = np.sqrt(mean_squared_error(predictions, test_df[LabelEnum.CLOSEDDAY.value]))\n",
    "    print(\"RMSE: %f\" % rmse)\n",
    "    mae = mean_absolute_error(predictions, test_y)\n",
    "    regression_true = test_y\n",
    "    regression_pred = predictions\n",
    "    print(\"MAE: %f\" % mae)\n",
    "    DataValidator().valid(submission, priority, test_df)\n",
    "    classification_true = submission[\"truth\"]\n",
    "    classification_pred = submission[\"prediction\"]\n",
    "    print(confusion_matrix(submission[\"truth\"], submission[\"prediction\"]))\n",
    "    print(classification_report(submission[\"truth\"], submission[\"prediction\"]))\n",
    "    \n",
    "    return (regression_true, regression_pred, classification_true, classification_pred)"
   ]
  },
  {
   "cell_type": "markdown",
   "metadata": {},
   "source": [
    "### Get P1 results"
   ]
  },
  {
   "cell_type": "code",
   "execution_count": 27,
   "metadata": {},
   "outputs": [
    {
     "name": "stdout",
     "output_type": "stream",
     "text": [
      "(2632, 15)\n",
      "(662, 15)\n"
     ]
    }
   ],
   "source": [
    "priority = Priority.P2.value\n",
    "train_X, train_y, test_X, test_y, train_df, test_df = extract_contextual_feature(priority)\n",
    "\n"
   ]
  },
  {
   "cell_type": "markdown",
   "metadata": {},
   "source": [
    "#### Extracted features"
   ]
  },
  {
   "cell_type": "code",
   "execution_count": 28,
   "metadata": {},
   "outputs": [
    {
     "data": {
      "text/html": [
       "<div>\n",
       "<style scoped>\n",
       "    .dataframe tbody tr th:only-of-type {\n",
       "        vertical-align: middle;\n",
       "    }\n",
       "\n",
       "    .dataframe tbody tr th {\n",
       "        vertical-align: top;\n",
       "    }\n",
       "\n",
       "    .dataframe thead th {\n",
       "        text-align: right;\n",
       "    }\n",
       "</style>\n",
       "<table border=\"1\" class=\"dataframe\">\n",
       "  <thead>\n",
       "    <tr style=\"text-align: right;\">\n",
       "      <th></th>\n",
       "      <th>keyID</th>\n",
       "      <th>priority</th>\n",
       "      <th>NCommentT</th>\n",
       "      <th>NActor</th>\n",
       "      <th>LabelsT</th>\n",
       "      <th>meanCommentSize</th>\n",
       "      <th>ticketCleanedBodyLen</th>\n",
       "      <th>nticketsByCreatorOpen</th>\n",
       "      <th>nClosedticketsByCreatorOpen</th>\n",
       "      <th>nCommentsByCreator</th>\n",
       "      <th>NCommentByActorsT</th>\n",
       "      <th>NticketsCreatedInProject</th>\n",
       "      <th>NticketsCreatedInProjectT</th>\n",
       "      <th>NticketsCreatedInProjectClosed</th>\n",
       "      <th>NticketsCreatedInProjectClosedT</th>\n",
       "      <th>NActivityInProject</th>\n",
       "      <th>NActivityInProjectT</th>\n",
       "      <th>ResolvedDay</th>\n",
       "      <th>ClosedDay</th>\n",
       "    </tr>\n",
       "  </thead>\n",
       "  <tbody>\n",
       "    <tr>\n",
       "      <th>0</th>\n",
       "      <td>ONBAML-12719</td>\n",
       "      <td>P2</td>\n",
       "      <td>3</td>\n",
       "      <td>5</td>\n",
       "      <td>8</td>\n",
       "      <td>19.000</td>\n",
       "      <td>107</td>\n",
       "      <td>102</td>\n",
       "      <td>68</td>\n",
       "      <td>428</td>\n",
       "      <td>18</td>\n",
       "      <td>139</td>\n",
       "      <td>43</td>\n",
       "      <td>136</td>\n",
       "      <td>40</td>\n",
       "      <td>3605</td>\n",
       "      <td>1057</td>\n",
       "      <td>12</td>\n",
       "      <td>12</td>\n",
       "    </tr>\n",
       "    <tr>\n",
       "      <th>1</th>\n",
       "      <td>RES-20723</td>\n",
       "      <td>P2</td>\n",
       "      <td>3</td>\n",
       "      <td>7</td>\n",
       "      <td>0</td>\n",
       "      <td>6.000</td>\n",
       "      <td>39</td>\n",
       "      <td>0</td>\n",
       "      <td>0</td>\n",
       "      <td>13</td>\n",
       "      <td>2</td>\n",
       "      <td>1</td>\n",
       "      <td>0</td>\n",
       "      <td>1</td>\n",
       "      <td>0</td>\n",
       "      <td>21</td>\n",
       "      <td>0</td>\n",
       "      <td>10</td>\n",
       "      <td>15</td>\n",
       "    </tr>\n",
       "    <tr>\n",
       "      <th>2</th>\n",
       "      <td>BILLING-16571</td>\n",
       "      <td>P2</td>\n",
       "      <td>6</td>\n",
       "      <td>7</td>\n",
       "      <td>0</td>\n",
       "      <td>26.500</td>\n",
       "      <td>217</td>\n",
       "      <td>1</td>\n",
       "      <td>1</td>\n",
       "      <td>0</td>\n",
       "      <td>0</td>\n",
       "      <td>20</td>\n",
       "      <td>10</td>\n",
       "      <td>20</td>\n",
       "      <td>10</td>\n",
       "      <td>508</td>\n",
       "      <td>262</td>\n",
       "      <td>13</td>\n",
       "      <td>15</td>\n",
       "    </tr>\n",
       "    <tr>\n",
       "      <th>3</th>\n",
       "      <td>REGSTRN-12121</td>\n",
       "      <td>P2</td>\n",
       "      <td>3</td>\n",
       "      <td>4</td>\n",
       "      <td>1</td>\n",
       "      <td>19.000</td>\n",
       "      <td>37</td>\n",
       "      <td>0</td>\n",
       "      <td>0</td>\n",
       "      <td>0</td>\n",
       "      <td>0</td>\n",
       "      <td>33</td>\n",
       "      <td>1</td>\n",
       "      <td>31</td>\n",
       "      <td>1</td>\n",
       "      <td>782</td>\n",
       "      <td>49</td>\n",
       "      <td>22</td>\n",
       "      <td>26</td>\n",
       "    </tr>\n",
       "    <tr>\n",
       "      <th>4</th>\n",
       "      <td>BILLING-16536</td>\n",
       "      <td>P2</td>\n",
       "      <td>8</td>\n",
       "      <td>9</td>\n",
       "      <td>0</td>\n",
       "      <td>28.875</td>\n",
       "      <td>99</td>\n",
       "      <td>13</td>\n",
       "      <td>11</td>\n",
       "      <td>0</td>\n",
       "      <td>0</td>\n",
       "      <td>18</td>\n",
       "      <td>8</td>\n",
       "      <td>18</td>\n",
       "      <td>8</td>\n",
       "      <td>464</td>\n",
       "      <td>232</td>\n",
       "      <td>19</td>\n",
       "      <td>19</td>\n",
       "    </tr>\n",
       "    <tr>\n",
       "      <th>5</th>\n",
       "      <td>BILLING-16547</td>\n",
       "      <td>P2</td>\n",
       "      <td>5</td>\n",
       "      <td>6</td>\n",
       "      <td>0</td>\n",
       "      <td>69.800</td>\n",
       "      <td>163</td>\n",
       "      <td>9</td>\n",
       "      <td>9</td>\n",
       "      <td>64</td>\n",
       "      <td>97</td>\n",
       "      <td>16</td>\n",
       "      <td>7</td>\n",
       "      <td>16</td>\n",
       "      <td>7</td>\n",
       "      <td>396</td>\n",
       "      <td>183</td>\n",
       "      <td>14</td>\n",
       "      <td>16</td>\n",
       "    </tr>\n",
       "    <tr>\n",
       "      <th>6</th>\n",
       "      <td>ONBAML-12716</td>\n",
       "      <td>P2</td>\n",
       "      <td>10</td>\n",
       "      <td>7</td>\n",
       "      <td>14</td>\n",
       "      <td>45.500</td>\n",
       "      <td>114</td>\n",
       "      <td>1</td>\n",
       "      <td>1</td>\n",
       "      <td>9</td>\n",
       "      <td>389</td>\n",
       "      <td>142</td>\n",
       "      <td>45</td>\n",
       "      <td>139</td>\n",
       "      <td>42</td>\n",
       "      <td>3718</td>\n",
       "      <td>1118</td>\n",
       "      <td>15</td>\n",
       "      <td>15</td>\n",
       "    </tr>\n",
       "    <tr>\n",
       "      <th>7</th>\n",
       "      <td>BILLING-16516</td>\n",
       "      <td>P2</td>\n",
       "      <td>5</td>\n",
       "      <td>5</td>\n",
       "      <td>0</td>\n",
       "      <td>70.400</td>\n",
       "      <td>194</td>\n",
       "      <td>0</td>\n",
       "      <td>0</td>\n",
       "      <td>0</td>\n",
       "      <td>0</td>\n",
       "      <td>16</td>\n",
       "      <td>7</td>\n",
       "      <td>16</td>\n",
       "      <td>7</td>\n",
       "      <td>396</td>\n",
       "      <td>183</td>\n",
       "      <td>21</td>\n",
       "      <td>21</td>\n",
       "    </tr>\n",
       "    <tr>\n",
       "      <th>8</th>\n",
       "      <td>ONBAML-12670</td>\n",
       "      <td>P2</td>\n",
       "      <td>1</td>\n",
       "      <td>4</td>\n",
       "      <td>14</td>\n",
       "      <td>7.000</td>\n",
       "      <td>82</td>\n",
       "      <td>1</td>\n",
       "      <td>1</td>\n",
       "      <td>9</td>\n",
       "      <td>365</td>\n",
       "      <td>140</td>\n",
       "      <td>42</td>\n",
       "      <td>138</td>\n",
       "      <td>40</td>\n",
       "      <td>3681</td>\n",
       "      <td>1065</td>\n",
       "      <td>14</td>\n",
       "      <td>14</td>\n",
       "    </tr>\n",
       "    <tr>\n",
       "      <th>9</th>\n",
       "      <td>BILLING-16557</td>\n",
       "      <td>P2</td>\n",
       "      <td>4</td>\n",
       "      <td>5</td>\n",
       "      <td>0</td>\n",
       "      <td>26.500</td>\n",
       "      <td>92</td>\n",
       "      <td>9</td>\n",
       "      <td>9</td>\n",
       "      <td>64</td>\n",
       "      <td>87</td>\n",
       "      <td>13</td>\n",
       "      <td>4</td>\n",
       "      <td>13</td>\n",
       "      <td>4</td>\n",
       "      <td>304</td>\n",
       "      <td>91</td>\n",
       "      <td>15</td>\n",
       "      <td>17</td>\n",
       "    </tr>\n",
       "  </tbody>\n",
       "</table>\n",
       "</div>"
      ],
      "text/plain": [
       "           keyID priority  NCommentT  NActor  LabelsT  meanCommentSize  \\\n",
       "0   ONBAML-12719       P2          3       5        8           19.000   \n",
       "1      RES-20723       P2          3       7        0            6.000   \n",
       "2  BILLING-16571       P2          6       7        0           26.500   \n",
       "3  REGSTRN-12121       P2          3       4        1           19.000   \n",
       "4  BILLING-16536       P2          8       9        0           28.875   \n",
       "5  BILLING-16547       P2          5       6        0           69.800   \n",
       "6   ONBAML-12716       P2         10       7       14           45.500   \n",
       "7  BILLING-16516       P2          5       5        0           70.400   \n",
       "8   ONBAML-12670       P2          1       4       14            7.000   \n",
       "9  BILLING-16557       P2          4       5        0           26.500   \n",
       "\n",
       "   ticketCleanedBodyLen  nticketsByCreatorOpen  nClosedticketsByCreatorOpen  \\\n",
       "0                   107                    102                           68   \n",
       "1                    39                      0                            0   \n",
       "2                   217                      1                            1   \n",
       "3                    37                      0                            0   \n",
       "4                    99                     13                           11   \n",
       "5                   163                      9                            9   \n",
       "6                   114                      1                            1   \n",
       "7                   194                      0                            0   \n",
       "8                    82                      1                            1   \n",
       "9                    92                      9                            9   \n",
       "\n",
       "   nCommentsByCreator  NCommentByActorsT  NticketsCreatedInProject  \\\n",
       "0                 428                 18                       139   \n",
       "1                  13                  2                         1   \n",
       "2                   0                  0                        20   \n",
       "3                   0                  0                        33   \n",
       "4                   0                  0                        18   \n",
       "5                  64                 97                        16   \n",
       "6                   9                389                       142   \n",
       "7                   0                  0                        16   \n",
       "8                   9                365                       140   \n",
       "9                  64                 87                        13   \n",
       "\n",
       "   NticketsCreatedInProjectT  NticketsCreatedInProjectClosed  \\\n",
       "0                         43                             136   \n",
       "1                          0                               1   \n",
       "2                         10                              20   \n",
       "3                          1                              31   \n",
       "4                          8                              18   \n",
       "5                          7                              16   \n",
       "6                         45                             139   \n",
       "7                          7                              16   \n",
       "8                         42                             138   \n",
       "9                          4                              13   \n",
       "\n",
       "   NticketsCreatedInProjectClosedT  NActivityInProject  NActivityInProjectT  \\\n",
       "0                               40                3605                 1057   \n",
       "1                                0                  21                    0   \n",
       "2                               10                 508                  262   \n",
       "3                                1                 782                   49   \n",
       "4                                8                 464                  232   \n",
       "5                                7                 396                  183   \n",
       "6                               42                3718                 1118   \n",
       "7                                7                 396                  183   \n",
       "8                               40                3681                 1065   \n",
       "9                                4                 304                   91   \n",
       "\n",
       "   ResolvedDay  ClosedDay  \n",
       "0           12         12  \n",
       "1           10         15  \n",
       "2           13         15  \n",
       "3           22         26  \n",
       "4           19         19  \n",
       "5           14         16  \n",
       "6           15         15  \n",
       "7           21         21  \n",
       "8           14         14  \n",
       "9           15         17  "
      ]
     },
     "execution_count": 28,
     "metadata": {},
     "output_type": "execute_result"
    }
   ],
   "source": [
    "train_df.head(10)"
   ]
  },
  {
   "cell_type": "markdown",
   "metadata": {},
   "source": [
    "#### Show results"
   ]
  },
  {
   "cell_type": "code",
   "execution_count": 29,
   "metadata": {},
   "outputs": [
    {
     "name": "stdout",
     "output_type": "stream",
     "text": [
      "RMSE: 9.283956\n",
      "MAE: 6.790030\n",
      "[[222 163]\n",
      " [102 175]]\n",
      "              precision    recall  f1-score   support\n",
      "\n",
      "       False       0.69      0.58      0.63       385\n",
      "        True       0.52      0.63      0.57       277\n",
      "\n",
      "    accuracy                           0.60       662\n",
      "   macro avg       0.60      0.60      0.60       662\n",
      "weighted avg       0.62      0.60      0.60       662\n",
      "\n"
     ]
    }
   ],
   "source": [
    "p2_regression_true, p2_regression_pred, p2_classification_true, p2_classification_pred = evaluate_contextual_result(train_X, train_y, test_X, test_y, train_df, test_df)"
   ]
  },
  {
   "cell_type": "markdown",
   "metadata": {},
   "source": [
    "### Get P3 results"
   ]
  },
  {
   "cell_type": "code",
   "execution_count": 25,
   "metadata": {},
   "outputs": [
    {
     "name": "stderr",
     "output_type": "stream",
     "text": [
      "/Users/fjirigesi/anaconda3/lib/python3.8/site-packages/pymongo/common.py:781: UserWarning: The value of ssl must be 'true' or 'false'\n",
      "  warnings.warn(str(exc))\n"
     ]
    },
    {
     "name": "stdout",
     "output_type": "stream",
     "text": [
      "(2730, 15)\n",
      "(678, 15)\n",
      "---Prediction results on P3 data---\n",
      "RMSE: 20.118821\n",
      "MAE: 13.864307\n",
      "[[384  84]\n",
      " [108 102]]\n",
      "              precision    recall  f1-score   support\n",
      "\n",
      "       False       0.78      0.82      0.80       468\n",
      "        True       0.55      0.49      0.52       210\n",
      "\n",
      "    accuracy                           0.72       678\n",
      "   macro avg       0.66      0.65      0.66       678\n",
      "weighted avg       0.71      0.72      0.71       678\n",
      "\n"
     ]
    }
   ],
   "source": [
    "priority = Priority.P3.value\n",
    "train_X, train_y, test_X, test_y, train_df, test_df = extract_contextual_feature(priority)\n",
    "print(\"---Prediction results on P3 data---\")\n",
    "p3_regression_true, p3_regression_pred, p3_classification_true, p3_classification_pred = evaluate_contextual_result(train_X, train_y, test_X, test_y, train_df, test_df)"
   ]
  },
  {
   "cell_type": "markdown",
   "metadata": {},
   "source": [
    "### get P4 results"
   ]
  },
  {
   "cell_type": "code",
   "execution_count": 31,
   "metadata": {},
   "outputs": [
    {
     "name": "stderr",
     "output_type": "stream",
     "text": [
      "/Users/fjirigesi/anaconda3/lib/python3.8/site-packages/pymongo/common.py:781: UserWarning: The value of ssl must be 'true' or 'false'\n",
      "  warnings.warn(str(exc))\n"
     ]
    },
    {
     "name": "stdout",
     "output_type": "stream",
     "text": [
      "(69, 15)\n",
      "(19, 15)\n",
      "---Prediction results on P4 data---\n",
      "RMSE: 31.697584\n",
      "MAE: 23.894737\n",
      "[[7 5]\n",
      " [3 4]]\n",
      "              precision    recall  f1-score   support\n",
      "\n",
      "       False       0.70      0.58      0.64        12\n",
      "        True       0.44      0.57      0.50         7\n",
      "\n",
      "    accuracy                           0.58        19\n",
      "   macro avg       0.57      0.58      0.57        19\n",
      "weighted avg       0.61      0.58      0.59        19\n",
      "\n"
     ]
    }
   ],
   "source": [
    "priority = Priority.P4.value\n",
    "train_X, train_y, test_X, test_y, train_df, test_df = extract_contextual_feature(priority)\n",
    "print(\"---Prediction results on P4 data---\")\n",
    "p4_regression_true, p4_regression_pred, p4_classification_true, p4_classification_pred = evaluate_contextual_result(train_X, train_y, test_X, test_y, train_df, test_df)"
   ]
  },
  {
   "cell_type": "markdown",
   "metadata": {},
   "source": [
    "### Cancatenate all results"
   ]
  },
  {
   "cell_type": "code",
   "execution_count": 27,
   "metadata": {},
   "outputs": [],
   "source": [
    "# regression results\n",
    "regression_true = pd.concat([p2_regression_true, p3_regression_true])\n",
    "regression_true = pd.concat([regression_true, p4_regression_true])\n",
    "\n",
    "regression_pred = np.concatenate((p2_regression_pred, p3_regression_pred), axis=0)\n",
    "regression_pred = np.concatenate((regression_pred, p4_regression_pred), axis=0)\n",
    "\n",
    "## classification results\n",
    "classification_true = pd.concat([p2_classification_true, p3_classification_true])\n",
    "classification_true = pd.concat([classification_true, p4_classification_true])\n",
    "\n",
    "classification_pred = pd.concat([p2_classification_pred, p3_classification_pred])\n",
    "classification_pred = pd.concat([classification_pred, p4_classification_pred])"
   ]
  },
  {
   "cell_type": "code",
   "execution_count": 28,
   "metadata": {},
   "outputs": [
    {
     "name": "stdout",
     "output_type": "stream",
     "text": [
      "---Contextual Feature results on all data---\n",
      "RMSE: 15.892141\n",
      "MAE: 10.994845\n",
      "[[545 226]\n",
      " [155 238]]\n",
      "              precision    recall  f1-score   support\n",
      "\n",
      "       False       0.78      0.71      0.74       771\n",
      "        True       0.51      0.61      0.56       393\n",
      "\n",
      "    accuracy                           0.67      1164\n",
      "   macro avg       0.65      0.66      0.65      1164\n",
      "weighted avg       0.69      0.67      0.68      1164\n",
      "\n"
     ]
    }
   ],
   "source": [
    "print(\"---Contextual Feature results on all data---\")\n",
    "rmse = np.sqrt(mean_squared_error(regression_pred, regression_true))\n",
    "print(\"RMSE: %f\" % rmse)\n",
    "mae = mean_absolute_error(regression_pred, regression_true)\n",
    "print(\"MAE: %f\" % mae)\n",
    "print(confusion_matrix(classification_true, classification_pred))\n",
    "print(classification_report(classification_true, classification_pred))"
   ]
  },
  {
   "cell_type": "markdown",
   "metadata": {},
   "source": [
    "## MLP "
   ]
  },
  {
   "cell_type": "code",
   "execution_count": 29,
   "metadata": {},
   "outputs": [
    {
     "name": "stdout",
     "output_type": "stream",
     "text": [
      "RMSE: 39.302248\n",
      "MAE: 32.666667\n",
      "[[0 2]\n",
      " [0 1]]\n",
      "              precision    recall  f1-score   support\n",
      "\n",
      "       False       0.00      0.00      0.00         2\n",
      "        True       0.33      1.00      0.50         1\n",
      "\n",
      "    accuracy                           0.33         3\n",
      "   macro avg       0.17      0.50      0.25         3\n",
      "weighted avg       0.11      0.33      0.17         3\n",
      "\n"
     ]
    },
    {
     "name": "stderr",
     "output_type": "stream",
     "text": [
      "/Users/fjirigesi/anaconda3/lib/python3.8/site-packages/sklearn/metrics/_classification.py:1245: UndefinedMetricWarning: Precision and F-score are ill-defined and being set to 0.0 in labels with no predicted samples. Use `zero_division` parameter to control this behavior.\n",
      "  _warn_prf(average, modifier, msg_start, len(result))\n",
      "/Users/fjirigesi/anaconda3/lib/python3.8/site-packages/sklearn/metrics/_classification.py:1245: UndefinedMetricWarning: Precision and F-score are ill-defined and being set to 0.0 in labels with no predicted samples. Use `zero_division` parameter to control this behavior.\n",
      "  _warn_prf(average, modifier, msg_start, len(result))\n",
      "/Users/fjirigesi/anaconda3/lib/python3.8/site-packages/sklearn/metrics/_classification.py:1245: UndefinedMetricWarning: Precision and F-score are ill-defined and being set to 0.0 in labels with no predicted samples. Use `zero_division` parameter to control this behavior.\n",
      "  _warn_prf(average, modifier, msg_start, len(result))\n"
     ]
    }
   ],
   "source": [
    "from sklearn.neural_network import MLPRegressor\n",
    "NNModel = MLPRegressor(random_state=0, max_iter=500, activation ='logistic', hidden_layer_sizes= (14,), solver= 'sgd').fit(train_X, train_y)\n",
    "\n",
    "predictions = np.rint(NNModel.predict(test_X)).astype(np.int64)\n",
    "predictions = np.squeeze(predictions)\n",
    "\n",
    "submission = pd.DataFrame({'ID': test_df['keyID'],\n",
    "                           LabelEnum.CLOSEDDAY.value: predictions, 'Actual': test_y})\n",
    "rmse = np.sqrt(mean_squared_error(predictions, test_df[LabelEnum.CLOSEDDAY.value]))\n",
    "print(\"RMSE: %f\" % rmse)\n",
    "mae = mean_absolute_error(predictions, test_y)\n",
    "print(\"MAE: %f\" % mae)\n",
    "DataValidator().valid(submission, priority, test_df)\n",
    "print(confusion_matrix(submission[\"truth\"], submission[\"prediction\"]))\n",
    "print(classification_report(submission[\"truth\"], submission[\"prediction\"]))"
   ]
  },
  {
   "cell_type": "code",
   "execution_count": null,
   "metadata": {},
   "outputs": [],
   "source": []
  }
 ],
 "metadata": {
  "kernelspec": {
   "display_name": "Python 3",
   "language": "python",
   "name": "python3"
  },
  "language_info": {
   "codemirror_mode": {
    "name": "ipython",
    "version": 3
   },
   "file_extension": ".py",
   "mimetype": "text/x-python",
   "name": "python",
   "nbconvert_exporter": "python",
   "pygments_lexer": "ipython3",
   "version": "3.8.5"
  }
 },
 "nbformat": 4,
 "nbformat_minor": 4
}
